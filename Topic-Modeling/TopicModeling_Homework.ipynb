{
  "nbformat": 4,
  "nbformat_minor": 0,
  "metadata": {
    "kernelspec": {
      "name": "python3",
      "display_name": "Python 3"
    },
    "colab": {
      "name": "DS_414_Topic_Modeling_Assignment.ipynb",
      "provenance": []
    },
    "language_info": {
      "name": "python"
    },
    "accelerator": "GPU"
  },
  "cells": [
    {
      "cell_type": "markdown",
      "metadata": {
        "id": "5utTU63WzGd3"
      },
      "source": [
        "# Topic Modeling\n",
        "\n",
        "\n",
        "![](https://drive.google.com/uc?export=view&id=1Aze8Xe_ZZpV22IwFNUH09T2howHmF1AK)\n",
        "\n",
        "[Image Credit: slides from Ben Mabey](https://speakerdeck.com/bmabey/visualizing-topic-models)\n",
        "\n",
        "Apply Topic Modeling to Analyze a corpus of Amazon reviews\n",
        "\n",
        "- Load in the Amazon Review dataset\n",
        "- Clean the dataset\n",
        "- Vectorize the dataset\n",
        "- Fit a Gensim LDA topic model on Amazon Reviews\n",
        "- Select appropriate number of topics\n",
        "- Create some dope visualization of the topics\n",
        "- Write a few bullets on your findings in markdown at the end"
      ]
    },
    {
      "cell_type": "code",
      "metadata": {
        "id": "X0x7DXmr8zYE"
      },
      "source": [
        "!pip install pyLDAvis==3.3.1"
      ],
      "execution_count": null,
      "outputs": []
    },
    {
      "cell_type": "code",
      "metadata": {
        "id": "uQGwb9xbFKIr"
      },
      "source": [
        "!pip install pandarallel==1.4.8"
      ],
      "execution_count": null,
      "outputs": []
    },
    {
      "cell_type": "code",
      "metadata": {
        "id": "nUPIrjOB_-BR"
      },
      "source": [
        "!python -m spacy download en_core_web_md"
      ],
      "execution_count": null,
      "outputs": []
    },
    {
      "cell_type": "markdown",
      "metadata": {
        "id": "isyLmOAZqYR0"
      },
      "source": [
        "## Restart runtime!"
      ]
    },
    {
      "cell_type": "code",
      "metadata": {
        "id": "rXrXC0mrzGd5"
      },
      "source": [
        "import re\n",
        "import pandas as pd\n",
        "import numpy as np\n",
        "import matplotlib.pyplot as plt\n",
        "from sklearn.feature_extraction.text import CountVectorizer, TfidfVectorizer\n",
        "\n",
        "import spacy\n",
        "spacy.util.fix_random_seed(0)\n",
        "\n",
        "import pyLDAvis\n",
        "import pyLDAvis.gensim_models\n",
        "\n",
        "import gensim\n",
        "import gensim.corpora as corpora\n",
        "from gensim.utils import simple_preprocess\n",
        "from gensim.models import CoherenceModel\n",
        "\n",
        "from pandarallel import pandarallel\n",
        "\n",
        "%matplotlib inline\n",
        "\n",
        "import warnings\n",
        "warnings.filterwarnings(\"ignore\")"
      ],
      "execution_count": 1,
      "outputs": []
    },
    {
      "cell_type": "markdown",
      "metadata": {
        "id": "x9ph4ZzpzGd6"
      },
      "source": [
        "----\n",
        "### Load the Amazon Review corpus\n",
        "This dataset is located in the Sprint 1 Module 1 `/data` directory.\n",
        "\n",
        "If the provided relative path doesn't work for you, then you'll have to provide the file path so pandas can read in the file."
      ]
    },
    {
      "cell_type": "code",
      "metadata": {
        "id": "c_L4bKk_4E84"
      },
      "source": [
        "#get dataset\n",
        "!git clone https://github.com/sikoh/Natural-Language-Processing.git"
      ],
      "execution_count": null,
      "outputs": []
    },
    {
      "cell_type": "code",
      "metadata": {
        "id": "7__zXIF_504B"
      },
      "source": [
        "!unzip '/content/Natural-Language-Processing/Text-Data/Data/Datafiniti_Amazon_Consumer_Reviews_of_Amazon_Products_May19.csv.zip'"
      ],
      "execution_count": null,
      "outputs": []
    },
    {
      "cell_type": "code",
      "metadata": {
        "id": "Ov482n4pzGd6"
      },
      "source": [
        "data_path = \"/content/Datafiniti_Amazon_Consumer_Reviews_of_Amazon_Products_May19.csv\"\n",
        "df = pd.read_csv(data_path)"
      ],
      "execution_count": 2,
      "outputs": []
    },
    {
      "cell_type": "code",
      "metadata": {
        "id": "-yZZEwZNzGd7",
        "colab": {
          "base_uri": "https://localhost:8080/",
          "height": 300
        },
        "outputId": "3744899e-7713-483d-a2db-72baa459e216"
      },
      "source": [
        "df.head(2)"
      ],
      "execution_count": 3,
      "outputs": [
        {
          "output_type": "execute_result",
          "data": {
            "text/plain": [
              "                     id             dateAdded           dateUpdated  \\\n",
              "0  AVpgNzjwLJeJML43Kpxn  2015-10-30T08:59:32Z  2019-04-25T09:08:16Z   \n",
              "1  AVpgNzjwLJeJML43Kpxn  2015-10-30T08:59:32Z  2019-04-25T09:08:16Z   \n",
              "\n",
              "                                                name                  asins  \\\n",
              "0  AmazonBasics AAA Performance Alkaline Batterie...  B00QWO9P0O,B00LH3DMUO   \n",
              "1  AmazonBasics AAA Performance Alkaline Batterie...  B00QWO9P0O,B00LH3DMUO   \n",
              "\n",
              "          brand                                         categories  \\\n",
              "0  Amazonbasics  AA,AAA,Health,Electronics,Health & Household,C...   \n",
              "1  Amazonbasics  AA,AAA,Health,Electronics,Health & Household,C...   \n",
              "\n",
              "  primaryCategories                                          imageURLs  \\\n",
              "0   Health & Beauty  https://images-na.ssl-images-amazon.com/images...   \n",
              "1   Health & Beauty  https://images-na.ssl-images-amazon.com/images...   \n",
              "\n",
              "                                                keys  ... reviews.didPurchase  \\\n",
              "0  amazonbasics/hl002619,amazonbasicsaaaperforman...  ...                 NaN   \n",
              "1  amazonbasics/hl002619,amazonbasicsaaaperforman...  ...                 NaN   \n",
              "\n",
              "  reviews.doRecommend reviews.id reviews.numHelpful reviews.rating  \\\n",
              "0                 NaN        NaN                NaN              3   \n",
              "1                 NaN        NaN                NaN              4   \n",
              "\n",
              "                                  reviews.sourceURLs  \\\n",
              "0  https://www.amazon.com/product-reviews/B00QWO9...   \n",
              "1  https://www.amazon.com/product-reviews/B00QWO9...   \n",
              "\n",
              "                                        reviews.text  \\\n",
              "0  I order 3 of them and one of the item is bad q...   \n",
              "1  Bulk is always the less expensive way to go fo...   \n",
              "\n",
              "                                       reviews.title  reviews.username  \\\n",
              "0  ... 3 of them and one of the item is bad quali...        Byger yang   \n",
              "1  ... always the less expensive way to go for pr...              ByMG   \n",
              "\n",
              "                                          sourceURLs  \n",
              "0  https://www.barcodable.com/upc/841710106442,ht...  \n",
              "1  https://www.barcodable.com/upc/841710106442,ht...  \n",
              "\n",
              "[2 rows x 24 columns]"
            ],
            "text/html": [
              "\n",
              "  <div id=\"df-b439a8eb-fe22-47f9-92c0-67505d5e3432\" class=\"colab-df-container\">\n",
              "    <div>\n",
              "<style scoped>\n",
              "    .dataframe tbody tr th:only-of-type {\n",
              "        vertical-align: middle;\n",
              "    }\n",
              "\n",
              "    .dataframe tbody tr th {\n",
              "        vertical-align: top;\n",
              "    }\n",
              "\n",
              "    .dataframe thead th {\n",
              "        text-align: right;\n",
              "    }\n",
              "</style>\n",
              "<table border=\"1\" class=\"dataframe\">\n",
              "  <thead>\n",
              "    <tr style=\"text-align: right;\">\n",
              "      <th></th>\n",
              "      <th>id</th>\n",
              "      <th>dateAdded</th>\n",
              "      <th>dateUpdated</th>\n",
              "      <th>name</th>\n",
              "      <th>asins</th>\n",
              "      <th>brand</th>\n",
              "      <th>categories</th>\n",
              "      <th>primaryCategories</th>\n",
              "      <th>imageURLs</th>\n",
              "      <th>keys</th>\n",
              "      <th>...</th>\n",
              "      <th>reviews.didPurchase</th>\n",
              "      <th>reviews.doRecommend</th>\n",
              "      <th>reviews.id</th>\n",
              "      <th>reviews.numHelpful</th>\n",
              "      <th>reviews.rating</th>\n",
              "      <th>reviews.sourceURLs</th>\n",
              "      <th>reviews.text</th>\n",
              "      <th>reviews.title</th>\n",
              "      <th>reviews.username</th>\n",
              "      <th>sourceURLs</th>\n",
              "    </tr>\n",
              "  </thead>\n",
              "  <tbody>\n",
              "    <tr>\n",
              "      <th>0</th>\n",
              "      <td>AVpgNzjwLJeJML43Kpxn</td>\n",
              "      <td>2015-10-30T08:59:32Z</td>\n",
              "      <td>2019-04-25T09:08:16Z</td>\n",
              "      <td>AmazonBasics AAA Performance Alkaline Batterie...</td>\n",
              "      <td>B00QWO9P0O,B00LH3DMUO</td>\n",
              "      <td>Amazonbasics</td>\n",
              "      <td>AA,AAA,Health,Electronics,Health &amp; Household,C...</td>\n",
              "      <td>Health &amp; Beauty</td>\n",
              "      <td>https://images-na.ssl-images-amazon.com/images...</td>\n",
              "      <td>amazonbasics/hl002619,amazonbasicsaaaperforman...</td>\n",
              "      <td>...</td>\n",
              "      <td>NaN</td>\n",
              "      <td>NaN</td>\n",
              "      <td>NaN</td>\n",
              "      <td>NaN</td>\n",
              "      <td>3</td>\n",
              "      <td>https://www.amazon.com/product-reviews/B00QWO9...</td>\n",
              "      <td>I order 3 of them and one of the item is bad q...</td>\n",
              "      <td>... 3 of them and one of the item is bad quali...</td>\n",
              "      <td>Byger yang</td>\n",
              "      <td>https://www.barcodable.com/upc/841710106442,ht...</td>\n",
              "    </tr>\n",
              "    <tr>\n",
              "      <th>1</th>\n",
              "      <td>AVpgNzjwLJeJML43Kpxn</td>\n",
              "      <td>2015-10-30T08:59:32Z</td>\n",
              "      <td>2019-04-25T09:08:16Z</td>\n",
              "      <td>AmazonBasics AAA Performance Alkaline Batterie...</td>\n",
              "      <td>B00QWO9P0O,B00LH3DMUO</td>\n",
              "      <td>Amazonbasics</td>\n",
              "      <td>AA,AAA,Health,Electronics,Health &amp; Household,C...</td>\n",
              "      <td>Health &amp; Beauty</td>\n",
              "      <td>https://images-na.ssl-images-amazon.com/images...</td>\n",
              "      <td>amazonbasics/hl002619,amazonbasicsaaaperforman...</td>\n",
              "      <td>...</td>\n",
              "      <td>NaN</td>\n",
              "      <td>NaN</td>\n",
              "      <td>NaN</td>\n",
              "      <td>NaN</td>\n",
              "      <td>4</td>\n",
              "      <td>https://www.amazon.com/product-reviews/B00QWO9...</td>\n",
              "      <td>Bulk is always the less expensive way to go fo...</td>\n",
              "      <td>... always the less expensive way to go for pr...</td>\n",
              "      <td>ByMG</td>\n",
              "      <td>https://www.barcodable.com/upc/841710106442,ht...</td>\n",
              "    </tr>\n",
              "  </tbody>\n",
              "</table>\n",
              "<p>2 rows × 24 columns</p>\n",
              "</div>\n",
              "    <div class=\"colab-df-buttons\">\n",
              "\n",
              "  <div class=\"colab-df-container\">\n",
              "    <button class=\"colab-df-convert\" onclick=\"convertToInteractive('df-b439a8eb-fe22-47f9-92c0-67505d5e3432')\"\n",
              "            title=\"Convert this dataframe to an interactive table.\"\n",
              "            style=\"display:none;\">\n",
              "\n",
              "  <svg xmlns=\"http://www.w3.org/2000/svg\" height=\"24px\" viewBox=\"0 -960 960 960\">\n",
              "    <path d=\"M120-120v-720h720v720H120Zm60-500h600v-160H180v160Zm220 220h160v-160H400v160Zm0 220h160v-160H400v160ZM180-400h160v-160H180v160Zm440 0h160v-160H620v160ZM180-180h160v-160H180v160Zm440 0h160v-160H620v160Z\"/>\n",
              "  </svg>\n",
              "    </button>\n",
              "\n",
              "  <style>\n",
              "    .colab-df-container {\n",
              "      display:flex;\n",
              "      gap: 12px;\n",
              "    }\n",
              "\n",
              "    .colab-df-convert {\n",
              "      background-color: #E8F0FE;\n",
              "      border: none;\n",
              "      border-radius: 50%;\n",
              "      cursor: pointer;\n",
              "      display: none;\n",
              "      fill: #1967D2;\n",
              "      height: 32px;\n",
              "      padding: 0 0 0 0;\n",
              "      width: 32px;\n",
              "    }\n",
              "\n",
              "    .colab-df-convert:hover {\n",
              "      background-color: #E2EBFA;\n",
              "      box-shadow: 0px 1px 2px rgba(60, 64, 67, 0.3), 0px 1px 3px 1px rgba(60, 64, 67, 0.15);\n",
              "      fill: #174EA6;\n",
              "    }\n",
              "\n",
              "    .colab-df-buttons div {\n",
              "      margin-bottom: 4px;\n",
              "    }\n",
              "\n",
              "    [theme=dark] .colab-df-convert {\n",
              "      background-color: #3B4455;\n",
              "      fill: #D2E3FC;\n",
              "    }\n",
              "\n",
              "    [theme=dark] .colab-df-convert:hover {\n",
              "      background-color: #434B5C;\n",
              "      box-shadow: 0px 1px 3px 1px rgba(0, 0, 0, 0.15);\n",
              "      filter: drop-shadow(0px 1px 2px rgba(0, 0, 0, 0.3));\n",
              "      fill: #FFFFFF;\n",
              "    }\n",
              "  </style>\n",
              "\n",
              "    <script>\n",
              "      const buttonEl =\n",
              "        document.querySelector('#df-b439a8eb-fe22-47f9-92c0-67505d5e3432 button.colab-df-convert');\n",
              "      buttonEl.style.display =\n",
              "        google.colab.kernel.accessAllowed ? 'block' : 'none';\n",
              "\n",
              "      async function convertToInteractive(key) {\n",
              "        const element = document.querySelector('#df-b439a8eb-fe22-47f9-92c0-67505d5e3432');\n",
              "        const dataTable =\n",
              "          await google.colab.kernel.invokeFunction('convertToInteractive',\n",
              "                                                    [key], {});\n",
              "        if (!dataTable) return;\n",
              "\n",
              "        const docLinkHtml = 'Like what you see? Visit the ' +\n",
              "          '<a target=\"_blank\" href=https://colab.research.google.com/notebooks/data_table.ipynb>data table notebook</a>'\n",
              "          + ' to learn more about interactive tables.';\n",
              "        element.innerHTML = '';\n",
              "        dataTable['output_type'] = 'display_data';\n",
              "        await google.colab.output.renderOutput(dataTable, element);\n",
              "        const docLink = document.createElement('div');\n",
              "        docLink.innerHTML = docLinkHtml;\n",
              "        element.appendChild(docLink);\n",
              "      }\n",
              "    </script>\n",
              "  </div>\n",
              "\n",
              "\n",
              "<div id=\"df-5a2fe2a3-f7de-4a9b-8e8d-6ab14e03113b\">\n",
              "  <button class=\"colab-df-quickchart\" onclick=\"quickchart('df-5a2fe2a3-f7de-4a9b-8e8d-6ab14e03113b')\"\n",
              "            title=\"Suggest charts\"\n",
              "            style=\"display:none;\">\n",
              "\n",
              "<svg xmlns=\"http://www.w3.org/2000/svg\" height=\"24px\"viewBox=\"0 0 24 24\"\n",
              "     width=\"24px\">\n",
              "    <g>\n",
              "        <path d=\"M19 3H5c-1.1 0-2 .9-2 2v14c0 1.1.9 2 2 2h14c1.1 0 2-.9 2-2V5c0-1.1-.9-2-2-2zM9 17H7v-7h2v7zm4 0h-2V7h2v10zm4 0h-2v-4h2v4z\"/>\n",
              "    </g>\n",
              "</svg>\n",
              "  </button>\n",
              "\n",
              "<style>\n",
              "  .colab-df-quickchart {\n",
              "      --bg-color: #E8F0FE;\n",
              "      --fill-color: #1967D2;\n",
              "      --hover-bg-color: #E2EBFA;\n",
              "      --hover-fill-color: #174EA6;\n",
              "      --disabled-fill-color: #AAA;\n",
              "      --disabled-bg-color: #DDD;\n",
              "  }\n",
              "\n",
              "  [theme=dark] .colab-df-quickchart {\n",
              "      --bg-color: #3B4455;\n",
              "      --fill-color: #D2E3FC;\n",
              "      --hover-bg-color: #434B5C;\n",
              "      --hover-fill-color: #FFFFFF;\n",
              "      --disabled-bg-color: #3B4455;\n",
              "      --disabled-fill-color: #666;\n",
              "  }\n",
              "\n",
              "  .colab-df-quickchart {\n",
              "    background-color: var(--bg-color);\n",
              "    border: none;\n",
              "    border-radius: 50%;\n",
              "    cursor: pointer;\n",
              "    display: none;\n",
              "    fill: var(--fill-color);\n",
              "    height: 32px;\n",
              "    padding: 0;\n",
              "    width: 32px;\n",
              "  }\n",
              "\n",
              "  .colab-df-quickchart:hover {\n",
              "    background-color: var(--hover-bg-color);\n",
              "    box-shadow: 0 1px 2px rgba(60, 64, 67, 0.3), 0 1px 3px 1px rgba(60, 64, 67, 0.15);\n",
              "    fill: var(--button-hover-fill-color);\n",
              "  }\n",
              "\n",
              "  .colab-df-quickchart-complete:disabled,\n",
              "  .colab-df-quickchart-complete:disabled:hover {\n",
              "    background-color: var(--disabled-bg-color);\n",
              "    fill: var(--disabled-fill-color);\n",
              "    box-shadow: none;\n",
              "  }\n",
              "\n",
              "  .colab-df-spinner {\n",
              "    border: 2px solid var(--fill-color);\n",
              "    border-color: transparent;\n",
              "    border-bottom-color: var(--fill-color);\n",
              "    animation:\n",
              "      spin 1s steps(1) infinite;\n",
              "  }\n",
              "\n",
              "  @keyframes spin {\n",
              "    0% {\n",
              "      border-color: transparent;\n",
              "      border-bottom-color: var(--fill-color);\n",
              "      border-left-color: var(--fill-color);\n",
              "    }\n",
              "    20% {\n",
              "      border-color: transparent;\n",
              "      border-left-color: var(--fill-color);\n",
              "      border-top-color: var(--fill-color);\n",
              "    }\n",
              "    30% {\n",
              "      border-color: transparent;\n",
              "      border-left-color: var(--fill-color);\n",
              "      border-top-color: var(--fill-color);\n",
              "      border-right-color: var(--fill-color);\n",
              "    }\n",
              "    40% {\n",
              "      border-color: transparent;\n",
              "      border-right-color: var(--fill-color);\n",
              "      border-top-color: var(--fill-color);\n",
              "    }\n",
              "    60% {\n",
              "      border-color: transparent;\n",
              "      border-right-color: var(--fill-color);\n",
              "    }\n",
              "    80% {\n",
              "      border-color: transparent;\n",
              "      border-right-color: var(--fill-color);\n",
              "      border-bottom-color: var(--fill-color);\n",
              "    }\n",
              "    90% {\n",
              "      border-color: transparent;\n",
              "      border-bottom-color: var(--fill-color);\n",
              "    }\n",
              "  }\n",
              "</style>\n",
              "\n",
              "  <script>\n",
              "    async function quickchart(key) {\n",
              "      const quickchartButtonEl =\n",
              "        document.querySelector('#' + key + ' button');\n",
              "      quickchartButtonEl.disabled = true;  // To prevent multiple clicks.\n",
              "      quickchartButtonEl.classList.add('colab-df-spinner');\n",
              "      try {\n",
              "        const charts = await google.colab.kernel.invokeFunction(\n",
              "            'suggestCharts', [key], {});\n",
              "      } catch (error) {\n",
              "        console.error('Error during call to suggestCharts:', error);\n",
              "      }\n",
              "      quickchartButtonEl.classList.remove('colab-df-spinner');\n",
              "      quickchartButtonEl.classList.add('colab-df-quickchart-complete');\n",
              "    }\n",
              "    (() => {\n",
              "      let quickchartButtonEl =\n",
              "        document.querySelector('#df-5a2fe2a3-f7de-4a9b-8e8d-6ab14e03113b button');\n",
              "      quickchartButtonEl.style.display =\n",
              "        google.colab.kernel.accessAllowed ? 'block' : 'none';\n",
              "    })();\n",
              "  </script>\n",
              "</div>\n",
              "    </div>\n",
              "  </div>\n"
            ]
          },
          "metadata": {},
          "execution_count": 3
        }
      ]
    },
    {
      "cell_type": "markdown",
      "metadata": {
        "id": "kdwr6x8PzGd7"
      },
      "source": [
        "----\n",
        "\n",
        "### Clean data\n",
        "\n",
        "- Create a function called `clean_data` that uses regex expressions to clean your data in preparation for the vectorizer.\n",
        "\n",
        "- Save the clean text data to a column in your dataframe named `clean_text`\n",
        "\n",
        "- Feel free to re-use old code that you have written in previous modules  "
      ]
    },
    {
      "cell_type": "code",
      "metadata": {
        "colab": {
          "base_uri": "https://localhost:8080/"
        },
        "id": "g5cL1Amq8iT_",
        "outputId": "af7e2b0f-1d9f-44fd-ff11-021ef62ab55c"
      },
      "source": [
        "df.shape"
      ],
      "execution_count": 4,
      "outputs": [
        {
          "output_type": "execute_result",
          "data": {
            "text/plain": [
              "(28332, 24)"
            ]
          },
          "metadata": {},
          "execution_count": 4
        }
      ]
    },
    {
      "cell_type": "code",
      "metadata": {
        "colab": {
          "base_uri": "https://localhost:8080/",
          "height": 35
        },
        "id": "dgW6kglx8T_l",
        "outputId": "2379a0c7-706c-4e41-8991-160d3bce5ebe"
      },
      "source": [
        "df['reviews.text'][8505]"
      ],
      "execution_count": 5,
      "outputs": [
        {
          "output_type": "execute_result",
          "data": {
            "text/plain": [
              "'Have had zero issues with longevity or voltage. As good as the major brand batteries'"
            ],
            "application/vnd.google.colaboratory.intrinsic+json": {
              "type": "string"
            }
          },
          "metadata": {},
          "execution_count": 5
        }
      ]
    },
    {
      "cell_type": "code",
      "metadata": {
        "deletable": false,
        "nbgrader": {
          "cell_type": "code",
          "checksum": "a2513c0ebd04cf8645fe0a1feb1e1a36",
          "grade": false,
          "grade_id": "cell-fa0950cfe5ef7725",
          "locked": false,
          "schema_version": 3,
          "solution": true,
          "task": false
        },
        "id": "4xo_hkHKzGd7"
      },
      "source": [
        "def clean_data(text):\n",
        "    \"\"\"\n",
        "    Cleans data to remove unwanted characters and punctuation.\n",
        "    \"\"\"\n",
        "    # order of operations - apply the expression from top to bottom\n",
        "    date_regex = r\"\\d+/\\d+/\\d+\"\n",
        "    punct_regex = r\"[^0-9a-zA-Z\\s]\" # any non-alphanumeric chars\n",
        "    special_chars_regex = r\"[\\$\\%\\&\\@+]\"\n",
        "    numerical_regex =  r\"\\d\"  # match one or more digits\n",
        "    whitespace_regex = r\"\\s+\" # match one or more whitespace chars\n",
        "    # Replace any strings matching the above regex patterns with blank strings\n",
        "    # (effectively removing them from the text)\n",
        "    text = re.sub(date_regex, \"\", text)\n",
        "    text = re.sub(special_chars_regex, \"\", text)\n",
        "    text = re.sub(numerical_regex, \"\", text)\n",
        "    text = re.sub(punct_regex, \"\", text)\n",
        "    # replace one or more whitespace characters with a single white space char\n",
        "    # not a blank string!\n",
        "    text = re.sub(whitespace_regex, \" \", text)\n",
        "\n",
        "    # apply case normalization\n",
        "    text = text.lower().strip()\n",
        "\n",
        "    return text"
      ],
      "execution_count": 6,
      "outputs": []
    },
    {
      "cell_type": "code",
      "metadata": {
        "deletable": false,
        "nbgrader": {
          "cell_type": "code",
          "checksum": "a6ceefe5476e71efcb3d36c3e203616f",
          "grade": false,
          "grade_id": "cell-5b8e2bc0f9a745f3",
          "locked": false,
          "schema_version": 3,
          "solution": true,
          "task": false
        },
        "id": "H693L3fJzGd8"
      },
      "source": [
        "# create a clean_text column by applying  clean_data to your text\n",
        "df['clean_text'] = df['reviews.text'].apply(clean_data)"
      ],
      "execution_count": 7,
      "outputs": []
    },
    {
      "cell_type": "code",
      "metadata": {
        "id": "5FMvAhkBzGd8"
      },
      "source": [
        "alphebetical_chars = [\"ABCDEFGHIJKLMNOP\"]\n",
        "# check if any of these alphabetical chars exist in your clean chars\n",
        "assert df.clean_text.isin(alphebetical_chars).sum() == 0, \"Did you case normalize your text inside of your clean_data function?\""
      ],
      "execution_count": 8,
      "outputs": []
    },
    {
      "cell_type": "markdown",
      "metadata": {
        "id": "kzqt1ainzGd8"
      },
      "source": [
        "------\n",
        "\n",
        "## Determine number of topics\n",
        "\n",
        "We are going to run an experiment to determine how many topics exists within the `primaryCategories` of `Electronics`. This is the largest primary category containing nearly 14K documents, so we should have plenty of data.\n",
        "\n",
        "Just as we did in the guided project, we'll be running a gridseach over the number of topics and scoring each model using the Coherence metric to determine which number of topics we should use.\n"
      ]
    },
    {
      "cell_type": "code",
      "metadata": {
        "id": "3jrHewGbzGd9"
      },
      "source": [
        "# create a mask for docs that are in the Electronics primaryCategories - save result to `electronics_mask`\n",
        "electronics_mask = df.primaryCategories.isin([\"Electronics\"])\n",
        "\n",
        "# use mask to select all the documents in the Electronics primaryCategories - save result to `df_electronics`\n",
        "df_electronics = df[electronics_mask]"
      ],
      "execution_count": 9,
      "outputs": []
    },
    {
      "cell_type": "code",
      "metadata": {
        "colab": {
          "base_uri": "https://localhost:8080/",
          "height": 401
        },
        "id": "peb18zW3zGd9",
        "outputId": "74064119-7e5c-4357-9d60-17469ac9e635"
      },
      "source": [
        "df_electronics.head(3)"
      ],
      "execution_count": 10,
      "outputs": [
        {
          "output_type": "execute_result",
          "data": {
            "text/plain": [
              "                        id             dateAdded           dateUpdated  \\\n",
              "8343  AVpe7nGV1cnluZ0-aG2o  2014-10-28T11:14:38Z  2019-04-25T09:05:28Z   \n",
              "8344  AVpe7nGV1cnluZ0-aG2o  2014-10-28T11:14:38Z  2019-04-25T09:05:28Z   \n",
              "8345  AVpe7nGV1cnluZ0-aG2o  2014-10-28T11:14:38Z  2019-04-25T09:05:28Z   \n",
              "\n",
              "                                                 name                  asins  \\\n",
              "8343  AmazonBasics Nylon CD/DVD Binder (400 Capacity)  B00DIHVMEA,B00EZ1ZTV0   \n",
              "8344  AmazonBasics Nylon CD/DVD Binder (400 Capacity)  B00DIHVMEA,B00EZ1ZTV0   \n",
              "8345  AmazonBasics Nylon CD/DVD Binder (400 Capacity)  B00DIHVMEA,B00EZ1ZTV0   \n",
              "\n",
              "             brand                                         categories  \\\n",
              "8343  Amazonbasics  Audio & Video Accessories,TV, Video & Home Aud...   \n",
              "8344  Amazonbasics  Audio & Video Accessories,TV, Video & Home Aud...   \n",
              "8345  Amazonbasics  Audio & Video Accessories,TV, Video & Home Aud...   \n",
              "\n",
              "     primaryCategories                                          imageURLs  \\\n",
              "8343       Electronics  http://ecx.images-amazon.com/images/I/41jQha7Z...   \n",
              "8344       Electronics  http://ecx.images-amazon.com/images/I/41jQha7Z...   \n",
              "8345       Electronics  http://ecx.images-amazon.com/images/I/41jQha7Z...   \n",
              "\n",
              "                                                   keys  ...  \\\n",
              "8343  amazonbasicsnyloncddvdbinder400capacity/b00ez1...  ...   \n",
              "8344  amazonbasicsnyloncddvdbinder400capacity/b00ez1...  ...   \n",
              "8345  amazonbasicsnyloncddvdbinder400capacity/b00ez1...  ...   \n",
              "\n",
              "     reviews.doRecommend reviews.id reviews.numHelpful reviews.rating  \\\n",
              "8343                 NaN        NaN                NaN              5   \n",
              "8344                 NaN        NaN                NaN              5   \n",
              "8345                 NaN        NaN                NaN              5   \n",
              "\n",
              "                                     reviews.sourceURLs  \\\n",
              "8343  https://www.ebay.com/itm/Amazonbasics-Nylon-Cd...   \n",
              "8344  http://www.amazon.co.uk/gp/product-reviews/B00...   \n",
              "8345  https://www.ebay.com/itm/Amazonbasics-Nylon-Cd...   \n",
              "\n",
              "                                           reviews.text  \\\n",
              "8343  Great case to keep everything in its place! My...   \n",
              "8344  After discarding and getting rid of broken cd ...   \n",
              "8345     A few dollars more, but I am boycotting amazon   \n",
              "\n",
              "                     reviews.title  reviews.username  \\\n",
              "8343             Excellent product           qs341_5   \n",
              "8344  It was a much needed storage          Diablita   \n",
              "8345               it was worth it  coldbloodblazing   \n",
              "\n",
              "                                             sourceURLs  \\\n",
              "8343  https://www.ebay.com/itm/AmazonBasics-Nylon-CD...   \n",
              "8344  https://www.ebay.com/itm/AmazonBasics-Nylon-CD...   \n",
              "8345  https://www.ebay.com/itm/AmazonBasics-Nylon-CD...   \n",
              "\n",
              "                                             clean_text  \n",
              "8343  great case to keep everything in its place my ...  \n",
              "8344  after discarding and getting rid of broken cd ...  \n",
              "8345      a few dollars more but i am boycotting amazon  \n",
              "\n",
              "[3 rows x 25 columns]"
            ],
            "text/html": [
              "\n",
              "  <div id=\"df-dd9e9840-e12f-45b5-af45-1f0ed9012f91\" class=\"colab-df-container\">\n",
              "    <div>\n",
              "<style scoped>\n",
              "    .dataframe tbody tr th:only-of-type {\n",
              "        vertical-align: middle;\n",
              "    }\n",
              "\n",
              "    .dataframe tbody tr th {\n",
              "        vertical-align: top;\n",
              "    }\n",
              "\n",
              "    .dataframe thead th {\n",
              "        text-align: right;\n",
              "    }\n",
              "</style>\n",
              "<table border=\"1\" class=\"dataframe\">\n",
              "  <thead>\n",
              "    <tr style=\"text-align: right;\">\n",
              "      <th></th>\n",
              "      <th>id</th>\n",
              "      <th>dateAdded</th>\n",
              "      <th>dateUpdated</th>\n",
              "      <th>name</th>\n",
              "      <th>asins</th>\n",
              "      <th>brand</th>\n",
              "      <th>categories</th>\n",
              "      <th>primaryCategories</th>\n",
              "      <th>imageURLs</th>\n",
              "      <th>keys</th>\n",
              "      <th>...</th>\n",
              "      <th>reviews.doRecommend</th>\n",
              "      <th>reviews.id</th>\n",
              "      <th>reviews.numHelpful</th>\n",
              "      <th>reviews.rating</th>\n",
              "      <th>reviews.sourceURLs</th>\n",
              "      <th>reviews.text</th>\n",
              "      <th>reviews.title</th>\n",
              "      <th>reviews.username</th>\n",
              "      <th>sourceURLs</th>\n",
              "      <th>clean_text</th>\n",
              "    </tr>\n",
              "  </thead>\n",
              "  <tbody>\n",
              "    <tr>\n",
              "      <th>8343</th>\n",
              "      <td>AVpe7nGV1cnluZ0-aG2o</td>\n",
              "      <td>2014-10-28T11:14:38Z</td>\n",
              "      <td>2019-04-25T09:05:28Z</td>\n",
              "      <td>AmazonBasics Nylon CD/DVD Binder (400 Capacity)</td>\n",
              "      <td>B00DIHVMEA,B00EZ1ZTV0</td>\n",
              "      <td>Amazonbasics</td>\n",
              "      <td>Audio &amp; Video Accessories,TV, Video &amp; Home Aud...</td>\n",
              "      <td>Electronics</td>\n",
              "      <td>http://ecx.images-amazon.com/images/I/41jQha7Z...</td>\n",
              "      <td>amazonbasicsnyloncddvdbinder400capacity/b00ez1...</td>\n",
              "      <td>...</td>\n",
              "      <td>NaN</td>\n",
              "      <td>NaN</td>\n",
              "      <td>NaN</td>\n",
              "      <td>5</td>\n",
              "      <td>https://www.ebay.com/itm/Amazonbasics-Nylon-Cd...</td>\n",
              "      <td>Great case to keep everything in its place! My...</td>\n",
              "      <td>Excellent product</td>\n",
              "      <td>qs341_5</td>\n",
              "      <td>https://www.ebay.com/itm/AmazonBasics-Nylon-CD...</td>\n",
              "      <td>great case to keep everything in its place my ...</td>\n",
              "    </tr>\n",
              "    <tr>\n",
              "      <th>8344</th>\n",
              "      <td>AVpe7nGV1cnluZ0-aG2o</td>\n",
              "      <td>2014-10-28T11:14:38Z</td>\n",
              "      <td>2019-04-25T09:05:28Z</td>\n",
              "      <td>AmazonBasics Nylon CD/DVD Binder (400 Capacity)</td>\n",
              "      <td>B00DIHVMEA,B00EZ1ZTV0</td>\n",
              "      <td>Amazonbasics</td>\n",
              "      <td>Audio &amp; Video Accessories,TV, Video &amp; Home Aud...</td>\n",
              "      <td>Electronics</td>\n",
              "      <td>http://ecx.images-amazon.com/images/I/41jQha7Z...</td>\n",
              "      <td>amazonbasicsnyloncddvdbinder400capacity/b00ez1...</td>\n",
              "      <td>...</td>\n",
              "      <td>NaN</td>\n",
              "      <td>NaN</td>\n",
              "      <td>NaN</td>\n",
              "      <td>5</td>\n",
              "      <td>http://www.amazon.co.uk/gp/product-reviews/B00...</td>\n",
              "      <td>After discarding and getting rid of broken cd ...</td>\n",
              "      <td>It was a much needed storage</td>\n",
              "      <td>Diablita</td>\n",
              "      <td>https://www.ebay.com/itm/AmazonBasics-Nylon-CD...</td>\n",
              "      <td>after discarding and getting rid of broken cd ...</td>\n",
              "    </tr>\n",
              "    <tr>\n",
              "      <th>8345</th>\n",
              "      <td>AVpe7nGV1cnluZ0-aG2o</td>\n",
              "      <td>2014-10-28T11:14:38Z</td>\n",
              "      <td>2019-04-25T09:05:28Z</td>\n",
              "      <td>AmazonBasics Nylon CD/DVD Binder (400 Capacity)</td>\n",
              "      <td>B00DIHVMEA,B00EZ1ZTV0</td>\n",
              "      <td>Amazonbasics</td>\n",
              "      <td>Audio &amp; Video Accessories,TV, Video &amp; Home Aud...</td>\n",
              "      <td>Electronics</td>\n",
              "      <td>http://ecx.images-amazon.com/images/I/41jQha7Z...</td>\n",
              "      <td>amazonbasicsnyloncddvdbinder400capacity/b00ez1...</td>\n",
              "      <td>...</td>\n",
              "      <td>NaN</td>\n",
              "      <td>NaN</td>\n",
              "      <td>NaN</td>\n",
              "      <td>5</td>\n",
              "      <td>https://www.ebay.com/itm/Amazonbasics-Nylon-Cd...</td>\n",
              "      <td>A few dollars more, but I am boycotting amazon</td>\n",
              "      <td>it was worth it</td>\n",
              "      <td>coldbloodblazing</td>\n",
              "      <td>https://www.ebay.com/itm/AmazonBasics-Nylon-CD...</td>\n",
              "      <td>a few dollars more but i am boycotting amazon</td>\n",
              "    </tr>\n",
              "  </tbody>\n",
              "</table>\n",
              "<p>3 rows × 25 columns</p>\n",
              "</div>\n",
              "    <div class=\"colab-df-buttons\">\n",
              "\n",
              "  <div class=\"colab-df-container\">\n",
              "    <button class=\"colab-df-convert\" onclick=\"convertToInteractive('df-dd9e9840-e12f-45b5-af45-1f0ed9012f91')\"\n",
              "            title=\"Convert this dataframe to an interactive table.\"\n",
              "            style=\"display:none;\">\n",
              "\n",
              "  <svg xmlns=\"http://www.w3.org/2000/svg\" height=\"24px\" viewBox=\"0 -960 960 960\">\n",
              "    <path d=\"M120-120v-720h720v720H120Zm60-500h600v-160H180v160Zm220 220h160v-160H400v160Zm0 220h160v-160H400v160ZM180-400h160v-160H180v160Zm440 0h160v-160H620v160ZM180-180h160v-160H180v160Zm440 0h160v-160H620v160Z\"/>\n",
              "  </svg>\n",
              "    </button>\n",
              "\n",
              "  <style>\n",
              "    .colab-df-container {\n",
              "      display:flex;\n",
              "      gap: 12px;\n",
              "    }\n",
              "\n",
              "    .colab-df-convert {\n",
              "      background-color: #E8F0FE;\n",
              "      border: none;\n",
              "      border-radius: 50%;\n",
              "      cursor: pointer;\n",
              "      display: none;\n",
              "      fill: #1967D2;\n",
              "      height: 32px;\n",
              "      padding: 0 0 0 0;\n",
              "      width: 32px;\n",
              "    }\n",
              "\n",
              "    .colab-df-convert:hover {\n",
              "      background-color: #E2EBFA;\n",
              "      box-shadow: 0px 1px 2px rgba(60, 64, 67, 0.3), 0px 1px 3px 1px rgba(60, 64, 67, 0.15);\n",
              "      fill: #174EA6;\n",
              "    }\n",
              "\n",
              "    .colab-df-buttons div {\n",
              "      margin-bottom: 4px;\n",
              "    }\n",
              "\n",
              "    [theme=dark] .colab-df-convert {\n",
              "      background-color: #3B4455;\n",
              "      fill: #D2E3FC;\n",
              "    }\n",
              "\n",
              "    [theme=dark] .colab-df-convert:hover {\n",
              "      background-color: #434B5C;\n",
              "      box-shadow: 0px 1px 3px 1px rgba(0, 0, 0, 0.15);\n",
              "      filter: drop-shadow(0px 1px 2px rgba(0, 0, 0, 0.3));\n",
              "      fill: #FFFFFF;\n",
              "    }\n",
              "  </style>\n",
              "\n",
              "    <script>\n",
              "      const buttonEl =\n",
              "        document.querySelector('#df-dd9e9840-e12f-45b5-af45-1f0ed9012f91 button.colab-df-convert');\n",
              "      buttonEl.style.display =\n",
              "        google.colab.kernel.accessAllowed ? 'block' : 'none';\n",
              "\n",
              "      async function convertToInteractive(key) {\n",
              "        const element = document.querySelector('#df-dd9e9840-e12f-45b5-af45-1f0ed9012f91');\n",
              "        const dataTable =\n",
              "          await google.colab.kernel.invokeFunction('convertToInteractive',\n",
              "                                                    [key], {});\n",
              "        if (!dataTable) return;\n",
              "\n",
              "        const docLinkHtml = 'Like what you see? Visit the ' +\n",
              "          '<a target=\"_blank\" href=https://colab.research.google.com/notebooks/data_table.ipynb>data table notebook</a>'\n",
              "          + ' to learn more about interactive tables.';\n",
              "        element.innerHTML = '';\n",
              "        dataTable['output_type'] = 'display_data';\n",
              "        await google.colab.output.renderOutput(dataTable, element);\n",
              "        const docLink = document.createElement('div');\n",
              "        docLink.innerHTML = docLinkHtml;\n",
              "        element.appendChild(docLink);\n",
              "      }\n",
              "    </script>\n",
              "  </div>\n",
              "\n",
              "\n",
              "<div id=\"df-19549021-d0d3-4fd0-9800-1e1a47b34b3e\">\n",
              "  <button class=\"colab-df-quickchart\" onclick=\"quickchart('df-19549021-d0d3-4fd0-9800-1e1a47b34b3e')\"\n",
              "            title=\"Suggest charts\"\n",
              "            style=\"display:none;\">\n",
              "\n",
              "<svg xmlns=\"http://www.w3.org/2000/svg\" height=\"24px\"viewBox=\"0 0 24 24\"\n",
              "     width=\"24px\">\n",
              "    <g>\n",
              "        <path d=\"M19 3H5c-1.1 0-2 .9-2 2v14c0 1.1.9 2 2 2h14c1.1 0 2-.9 2-2V5c0-1.1-.9-2-2-2zM9 17H7v-7h2v7zm4 0h-2V7h2v10zm4 0h-2v-4h2v4z\"/>\n",
              "    </g>\n",
              "</svg>\n",
              "  </button>\n",
              "\n",
              "<style>\n",
              "  .colab-df-quickchart {\n",
              "      --bg-color: #E8F0FE;\n",
              "      --fill-color: #1967D2;\n",
              "      --hover-bg-color: #E2EBFA;\n",
              "      --hover-fill-color: #174EA6;\n",
              "      --disabled-fill-color: #AAA;\n",
              "      --disabled-bg-color: #DDD;\n",
              "  }\n",
              "\n",
              "  [theme=dark] .colab-df-quickchart {\n",
              "      --bg-color: #3B4455;\n",
              "      --fill-color: #D2E3FC;\n",
              "      --hover-bg-color: #434B5C;\n",
              "      --hover-fill-color: #FFFFFF;\n",
              "      --disabled-bg-color: #3B4455;\n",
              "      --disabled-fill-color: #666;\n",
              "  }\n",
              "\n",
              "  .colab-df-quickchart {\n",
              "    background-color: var(--bg-color);\n",
              "    border: none;\n",
              "    border-radius: 50%;\n",
              "    cursor: pointer;\n",
              "    display: none;\n",
              "    fill: var(--fill-color);\n",
              "    height: 32px;\n",
              "    padding: 0;\n",
              "    width: 32px;\n",
              "  }\n",
              "\n",
              "  .colab-df-quickchart:hover {\n",
              "    background-color: var(--hover-bg-color);\n",
              "    box-shadow: 0 1px 2px rgba(60, 64, 67, 0.3), 0 1px 3px 1px rgba(60, 64, 67, 0.15);\n",
              "    fill: var(--button-hover-fill-color);\n",
              "  }\n",
              "\n",
              "  .colab-df-quickchart-complete:disabled,\n",
              "  .colab-df-quickchart-complete:disabled:hover {\n",
              "    background-color: var(--disabled-bg-color);\n",
              "    fill: var(--disabled-fill-color);\n",
              "    box-shadow: none;\n",
              "  }\n",
              "\n",
              "  .colab-df-spinner {\n",
              "    border: 2px solid var(--fill-color);\n",
              "    border-color: transparent;\n",
              "    border-bottom-color: var(--fill-color);\n",
              "    animation:\n",
              "      spin 1s steps(1) infinite;\n",
              "  }\n",
              "\n",
              "  @keyframes spin {\n",
              "    0% {\n",
              "      border-color: transparent;\n",
              "      border-bottom-color: var(--fill-color);\n",
              "      border-left-color: var(--fill-color);\n",
              "    }\n",
              "    20% {\n",
              "      border-color: transparent;\n",
              "      border-left-color: var(--fill-color);\n",
              "      border-top-color: var(--fill-color);\n",
              "    }\n",
              "    30% {\n",
              "      border-color: transparent;\n",
              "      border-left-color: var(--fill-color);\n",
              "      border-top-color: var(--fill-color);\n",
              "      border-right-color: var(--fill-color);\n",
              "    }\n",
              "    40% {\n",
              "      border-color: transparent;\n",
              "      border-right-color: var(--fill-color);\n",
              "      border-top-color: var(--fill-color);\n",
              "    }\n",
              "    60% {\n",
              "      border-color: transparent;\n",
              "      border-right-color: var(--fill-color);\n",
              "    }\n",
              "    80% {\n",
              "      border-color: transparent;\n",
              "      border-right-color: var(--fill-color);\n",
              "      border-bottom-color: var(--fill-color);\n",
              "    }\n",
              "    90% {\n",
              "      border-color: transparent;\n",
              "      border-bottom-color: var(--fill-color);\n",
              "    }\n",
              "  }\n",
              "</style>\n",
              "\n",
              "  <script>\n",
              "    async function quickchart(key) {\n",
              "      const quickchartButtonEl =\n",
              "        document.querySelector('#' + key + ' button');\n",
              "      quickchartButtonEl.disabled = true;  // To prevent multiple clicks.\n",
              "      quickchartButtonEl.classList.add('colab-df-spinner');\n",
              "      try {\n",
              "        const charts = await google.colab.kernel.invokeFunction(\n",
              "            'suggestCharts', [key], {});\n",
              "      } catch (error) {\n",
              "        console.error('Error during call to suggestCharts:', error);\n",
              "      }\n",
              "      quickchartButtonEl.classList.remove('colab-df-spinner');\n",
              "      quickchartButtonEl.classList.add('colab-df-quickchart-complete');\n",
              "    }\n",
              "    (() => {\n",
              "      let quickchartButtonEl =\n",
              "        document.querySelector('#df-19549021-d0d3-4fd0-9800-1e1a47b34b3e button');\n",
              "      quickchartButtonEl.style.display =\n",
              "        google.colab.kernel.accessAllowed ? 'block' : 'none';\n",
              "    })();\n",
              "  </script>\n",
              "</div>\n",
              "    </div>\n",
              "  </div>\n"
            ]
          },
          "metadata": {},
          "execution_count": 10
        }
      ]
    },
    {
      "cell_type": "markdown",
      "metadata": {
        "id": "FfZWF0I9zGd-"
      },
      "source": [
        "------\n",
        "### Tokenize your documents\n",
        "\n",
        "Remember that you'll need to use the [**corpora**](https://radimrehurek.com/gensim/corpora/dictionary.html) class from the Gensim library. So definitely check out the docs to learn more about this tool. There is an example on how to do this in the guided project.\n",
        "\n",
        "But before we can use the [**corpora**](https://radimrehurek.com/gensim/corpora/dictionary.html) class, we must first tokenize our articles.\n",
        "\n"
      ]
    },
    {
      "cell_type": "code",
      "metadata": {
        "id": "2rAMfVfB1PS-",
        "colab": {
          "base_uri": "https://localhost:8080/"
        },
        "outputId": "6b5218df-f14e-402c-cdb2-40f9e922e9f8"
      },
      "source": [
        "# identify how many processors your machine has - save the result to `n_processors`\n",
        "\n",
        "# subtract 1 from n_processors - save the result to `nb_workers`\n",
        "\n",
        "# initialize just like we did in the guided project\n",
        "# YOUR CODE HERE\n",
        "pandarallel.initialize(progress_bar=True, nb_workers=10)\n",
        "# so that the progress bars will work\n",
        "from pandarallel.utils import progress_bars\n",
        "progress_bars.is_notebook_lab = lambda : True"
      ],
      "execution_count": 11,
      "outputs": [
        {
          "output_type": "stream",
          "name": "stdout",
          "text": [
            "INFO: Pandarallel will run on 10 workers.\n",
            "INFO: Pandarallel will use Memory file system to transfer data between the main process and workers.\n"
          ]
        }
      ]
    },
    {
      "cell_type": "code",
      "metadata": {
        "id": "t6pNnk3vzGd-"
      },
      "source": [
        "# load in the spaCy language model\n",
        "nlp = spacy.load(\"en_core_web_md\")"
      ],
      "execution_count": 12,
      "outputs": []
    },
    {
      "cell_type": "code",
      "source": [
        "print([token.lemma_ for token in nlp(df_electronics['clean_text'][8343])])"
      ],
      "metadata": {
        "colab": {
          "base_uri": "https://localhost:8080/"
        },
        "id": "NUvv0ndEXxl5",
        "outputId": "e305dfec-73c5-408a-9f39-4a681006c489"
      },
      "execution_count": 15,
      "outputs": [
        {
          "output_type": "stream",
          "name": "stdout",
          "text": [
            "['great', 'case', 'to', 'keep', 'everything', 'in', 'its', 'place', 'my', 'husband', 'love', 'it', 'hold', 'a', 'lot', 'of', 'cd']\n"
          ]
        }
      ]
    },
    {
      "cell_type": "code",
      "metadata": {
        "id": "05x-KJPIBQa2",
        "colab": {
          "base_uri": "https://localhost:8080/"
        },
        "outputId": "40a62534-0b25-48a0-9f95-612473c6b1d0"
      },
      "source": [
        "%%time\n",
        "# create our tokens in the form of lemmas\n",
        "df_electronics['lemmas'] = df_electronics['clean_text'].apply(lambda x: [token.lemma_ for token in nlp(x) if (token.is_stop != True) and (token.is_punct != True)])"
      ],
      "execution_count": 14,
      "outputs": [
        {
          "output_type": "stream",
          "name": "stdout",
          "text": [
            "CPU times: user 2min 5s, sys: 506 ms, total: 2min 5s\n",
            "Wall time: 2min 7s\n"
          ]
        }
      ]
    },
    {
      "cell_type": "code",
      "source": [
        "sorted(df_electronics['lemmas'][8343])"
      ],
      "metadata": {
        "colab": {
          "base_uri": "https://localhost:8080/"
        },
        "id": "RCAxskmMYxwC",
        "outputId": "9d760082-f90b-4c4e-cb6c-1361e0662257"
      },
      "execution_count": 17,
      "outputs": [
        {
          "output_type": "execute_result",
          "data": {
            "text/plain": [
              "['case', 'cd', 'great', 'hold', 'husband', 'lot', 'love', 'place']"
            ]
          },
          "metadata": {},
          "execution_count": 17
        }
      ]
    },
    {
      "cell_type": "markdown",
      "metadata": {
        "id": "WS7vTVqnzGd_"
      },
      "source": [
        "### Use the corpora class to prep your data for LDA\n",
        "\n",
        "You'll need to create the same `id2word` and `corpus` objects that we created in the guided projects. So be sure to reference the guided project notebook if you need to."
      ]
    },
    {
      "cell_type": "code",
      "metadata": {
        "deletable": false,
        "nbgrader": {
          "cell_type": "code",
          "checksum": "53bf811aebb39e7ed6fc592851f82f8b",
          "grade": false,
          "grade_id": "cell-9d92f28649aa999e",
          "locked": false,
          "schema_version": 3,
          "solution": true,
          "task": false
        },
        "id": "7paL9zS7zGd_"
      },
      "source": [
        "# Create lemma dictionary using Dictionary - save result to `id2word`\n",
        "id2word = corpora.Dictionary(df_electronics['lemmas'] )\n",
        "\n",
        "# Create Term Document Frequency list - save result to `corpus`\n",
        "corpus =  [id2word.doc2bow(doc_lemmas) for doc_lemmas in df_electronics['lemmas']]\n"
      ],
      "execution_count": 18,
      "outputs": []
    },
    {
      "cell_type": "code",
      "source": [
        "id2word.doc2bow(['case', 'cd', 'great', 'hold', 'husband', 'lot', 'love', 'place'])"
      ],
      "metadata": {
        "colab": {
          "base_uri": "https://localhost:8080/"
        },
        "id": "6JkErtsoZOg8",
        "outputId": "6b751e44-cb68-4ddd-c406-5d750bc09503"
      },
      "execution_count": 19,
      "outputs": [
        {
          "output_type": "execute_result",
          "data": {
            "text/plain": [
              "[(0, 1), (1, 1), (2, 1), (3, 1), (4, 1), (5, 1), (6, 1), (7, 1)]"
            ]
          },
          "metadata": {},
          "execution_count": 19
        }
      ]
    },
    {
      "cell_type": "code",
      "source": [
        "# try new version with repeating words - 'case'\n",
        "try_new = ['case','case', 'cd', 'great', 'hold','case','husband', 'lot','case','love', 'place']"
      ],
      "metadata": {
        "id": "zuKWLYrOZYDQ"
      },
      "execution_count": 23,
      "outputs": []
    },
    {
      "cell_type": "code",
      "source": [
        "id2word.doc2bow(try_new)"
      ],
      "metadata": {
        "colab": {
          "base_uri": "https://localhost:8080/"
        },
        "id": "cK0hjjXvZoii",
        "outputId": "0560f839-d3e4-4421-dee7-19dbefff6d74"
      },
      "execution_count": 24,
      "outputs": [
        {
          "output_type": "execute_result",
          "data": {
            "text/plain": [
              "[(0, 4), (1, 1), (2, 1), (3, 1), (4, 1), (5, 1), (6, 1), (7, 1)]"
            ]
          },
          "metadata": {},
          "execution_count": 24
        }
      ]
    },
    {
      "cell_type": "markdown",
      "metadata": {
        "id": "vtmHceiazGd_"
      },
      "source": [
        "## Gridsearch the number of topics\n",
        "\n",
        "Just as we did in the guided project, we're going to run a `for` loop over a range of possible number of topics and then plot the `coherence_values` to determine which number of topics leads to the most sensible grouping of documents."
      ]
    },
    {
      "cell_type": "code",
      "metadata": {
        "id": "FBICFYD4zGeA"
      },
      "source": [
        "def compute_coherence_values(dictionary, corpus, texts, limit, start=2, step=3):\n",
        "    \"\"\"\n",
        "    Compute c_v coherence for various number of topics\n",
        "\n",
        "    Parameters:\n",
        "    ----------\n",
        "    dictionary : Gensim dictionary\n",
        "    corpus : Gensim corpus\n",
        "    texts : List of input texts\n",
        "    limit : Max num of topics\n",
        "\n",
        "    Returns:\n",
        "    -------\n",
        "    model_list : List of LDA topic models\n",
        "    coherence_values : Coherence values corresponding to the LDA model with respective number of topics\n",
        "    \"\"\"\n",
        "    coherence_values = []\n",
        "    model_list = []\n",
        "    for num_topics in range(start, limit, step):\n",
        "        model = gensim.models.ldamulticore.LdaMulticore(corpus=corpus,\n",
        "                                                        id2word=id2word,\n",
        "                                                        num_topics=num_topics,\n",
        "                                                        chunksize=100,\n",
        "                                                        passes=10,\n",
        "                                                        random_state=1234,\n",
        "                                                        per_word_topics=True,\n",
        "                                                        workers=2)\n",
        "        model_list.append(model)\n",
        "        coherencemodel = CoherenceModel(model=model, texts=texts, dictionary=dictionary, coherence='c_v')\n",
        "        coherence_values.append(coherencemodel.get_coherence())\n",
        "\n",
        "    return model_list, coherence_values"
      ],
      "execution_count": 25,
      "outputs": []
    },
    {
      "cell_type": "code",
      "metadata": {
        "id": "Nn20KdDl2HUR",
        "colab": {
          "base_uri": "https://localhost:8080/"
        },
        "outputId": "bd4a9cdd-274b-410e-bf9f-18a23b11b503"
      },
      "source": [
        "%%time\n",
        "model_list, coherence_values = compute_coherence_values(dictionary=id2word, corpus=corpus, texts=df_electronics['lemmas'], start=2, limit=16, step=2)"
      ],
      "execution_count": 26,
      "outputs": [
        {
          "output_type": "stream",
          "name": "stdout",
          "text": [
            "CPU times: user 2min 55s, sys: 9.42 s, total: 3min 5s\n",
            "Wall time: 5min 11s\n"
          ]
        }
      ]
    },
    {
      "cell_type": "code",
      "metadata": {
        "id": "k2kJsVLt2P5-",
        "colab": {
          "base_uri": "https://localhost:8080/",
          "height": 417
        },
        "outputId": "9873210d-ee36-44d9-83af-07f8b48dc21e"
      },
      "source": [
        "start=2; limit=16;  step=2;\n",
        "x = range(start, limit, step)\n",
        "\n",
        "plt.figure(figsize=(20,5))\n",
        "plt.grid()\n",
        "plt.title(\"Coherence Score vs. Number of Topics\")\n",
        "plt.xticks(x)\n",
        "plt.plot(x, coherence_values, \"-o\")\n",
        "\n",
        "plt.xlabel(\"Num Topics\")\n",
        "plt.ylabel(\"Coherence score\")\n",
        "\n",
        "plt.show();"
      ],
      "execution_count": 27,
      "outputs": [
        {
          "output_type": "display_data",
          "data": {
            "text/plain": [
              "<Figure size 2000x500 with 1 Axes>"
            ],
            "image/png": "[encoded data removed]"
          },
          "metadata": {}
        }
      ]
    },
    {
      "cell_type": "code",
      "metadata": {
        "deletable": false,
        "nbgrader": {
          "cell_type": "code",
          "checksum": "45f72ff929ab8b765d0f0b5f35137f0d",
          "grade": false,
          "grade_id": "cell-e97661faebf1ac3c",
          "locked": false,
          "schema_version": 3,
          "solution": true,
          "task": false
        },
        "id": "1Qx7OVX-zGeB"
      },
      "source": [
        "# use np.argmax() to get index of largest coherence value from coherence_values - save result to `max_cohereance_val_index`\n",
        "\n",
        "# use `max_coherence_val_index` to index model_list for the corresponding model - save result to `lda_trained_model`\n",
        "\n",
        "max_coherence_val_index = 3\n",
        "\n",
        "lda_trained_model = model_list[max_coherence_val_index]"
      ],
      "execution_count": 28,
      "outputs": []
    },
    {
      "cell_type": "code",
      "metadata": {
        "colab": {
          "base_uri": "https://localhost:8080/"
        },
        "id": "7y-wokYcIg9_",
        "outputId": "3de2560b-0670-4ce8-8d7c-b38241b80eff"
      },
      "source": [
        "lda_trained_model"
      ],
      "execution_count": 29,
      "outputs": [
        {
          "output_type": "execute_result",
          "data": {
            "text/plain": [
              "<gensim.models.ldamulticore.LdaMulticore at 0x7dc5d403b6d0>"
            ]
          },
          "metadata": {},
          "execution_count": 29
        }
      ]
    },
    {
      "cell_type": "markdown",
      "metadata": {
        "id": "LwGY4o8fzGeB"
      },
      "source": [
        "## Use pyLDAvis to visualize your topics\n",
        "\n",
        "Take a look at the topic bubbles and bar chart for the terms on the right hand side.  \n",
        "\n",
        "- Describe the topic bubbles.\n",
        "- Do they overlap or not?\n",
        "- What does it mean when they overlap?\n",
        "- What does it mean when they don't overlap?\n",
        "- Are the terms in each topic distinct from the topics in the other topic bubbles?\n"
      ]
    },
    {
      "cell_type": "code",
      "metadata": {
        "id": "9poWZ8WgItYS"
      },
      "source": [
        "!pip install ipywidgets"
      ],
      "execution_count": null,
      "outputs": []
    },
    {
      "cell_type": "code",
      "metadata": {
        "id": "YBqK345s2oYC",
        "colab": {
          "base_uri": "https://localhost:8080/",
          "height": 861
        },
        "outputId": "270feb7f-de31-4416-e6ba-7a132da31601"
      },
      "source": [
        "# plot your topics here -- using pyLDAvis\n",
        "pyLDAvis.enable_notebook()\n",
        "vis = pyLDAvis.gensim_models.prepare(lda_trained_model, corpus, id2word)\n",
        "vis\n"
      ],
      "execution_count": 32,
      "outputs": [
        {
          "output_type": "execute_result",
          "data": {
            "text/plain": [
              "PreparedData(topic_coordinates=              x         y  topics  cluster       Freq\n",
              "topic                                                \n",
              "5     -0.190993 -0.093913       1        1  21.640842\n",
              "4     -0.091809  0.037197       2        1  20.511478\n",
              "3     -0.227447 -0.045753       3        1  14.162585\n",
              "1     -0.172353 -0.033932       4        1  12.090578\n",
              "2      0.067167  0.166096       5        1  12.031631\n",
              "0      0.097772  0.252562       6        1   8.775846\n",
              "7      0.285503 -0.020566       7        1   5.632258\n",
              "6      0.232161 -0.261691       8        1   5.154782, topic_info=        Term         Freq        Total Category  logprob  loglift\n",
              "694   tablet  6651.000000  6651.000000  Default  30.0000  30.0000\n",
              "1354     kid  1956.000000  1956.000000  Default  29.0000  29.0000\n",
              "2      great  4739.000000  4739.000000  Default  28.0000  28.0000\n",
              "989   kindle  2404.000000  2404.000000  Default  27.0000  27.0000\n",
              "141      old  2155.000000  2155.000000  Default  26.0000  26.0000\n",
              "...      ...          ...          ...      ...      ...      ...\n",
              "28      like   188.023014  1748.138447   Topic8  -3.9600   0.7355\n",
              "177   device   131.283499   833.170914   Topic8  -4.3192   1.1174\n",
              "1164      ok    66.437480   139.709730   Topic8  -5.0003   2.2219\n",
              "1430   daily    60.409606   123.875593   Topic8  -5.0954   2.2471\n",
              "330    right    66.862908   328.316698   Topic8  -4.9939   1.3739\n",
              "\n",
              "[447 rows x 6 columns], token_table=      Topic      Freq        Term\n",
              "term                             \n",
              "1137      2  0.310863  absolutely\n",
              "1137      3  0.684871  absolutely\n",
              "1537      5  0.818434     account\n",
              "1537      6  0.178105     account\n",
              "3452      8  0.983255    activity\n",
              "...     ...       ...         ...\n",
              "1004      8  0.995786       wrong\n",
              "1025      2  0.999539        year\n",
              "3548      4  0.971857     yearold\n",
              "1363      6  0.996269       young\n",
              "1500      7  0.997938          yr\n",
              "\n",
              "[604 rows x 3 columns], R=30, lambda_step=0.01, plot_opts={'xlab': 'PC1', 'ylab': 'PC2'}, topic_order=[6, 5, 4, 2, 3, 1, 8, 7])"
            ],
            "text/html": [
              "\n",
              "<link rel=\"stylesheet\" type=\"text/css\" href=\"https://cdn.jsdelivr.net/gh/bmabey/pyLDAvis@3.4.0/pyLDAvis/js/ldavis.v1.0.0.css\">\n",
              "\n",
              "\n",
              "<div id=\"ldavis_el206791382885687119048444218515\" style=\"background-color:white;\"></div>\n",
              "<script type=\"text/javascript\">\n",
              "\n",
              "var ldavis_el206791382885687119048444218515_data = {\"mdsDat\": {\"x\": [-0.19099346856711097, -0.09180860416666999, -0.22744747084051106, -0.17235267252090797, 0.06716666228205041, 0.09777161326470306, 0.2855027517063911, 0.23216118884205486], \"y\": [-0.0939134302176877, 0.03719711301115891, -0.045753286928143046, -0.03393181243650618, 0.16609616557129545, 0.2525620338749691, -0.020565520389806573, -0.2616912624852799], \"topics\": [1, 2, 3, 4, 5, 6, 7, 8], \"cluster\": [1, 1, 1, 1, 1, 1, 1, 1], \"Freq\": [21.640842184063523, 20.511478382111754, 14.162584718519858, 12.090577568202686, 12.031631069924154, 8.775845925965225, 5.632258305789996, 5.1547818454227965]}, \"tinfo\": {\"Term\": [\"tablet\", \"kid\", \"great\", \"kindle\", \"old\", \"not\", \"buy\", \"love\", \"fire\", \"year\", \"app\", \"game\", \"screen\", \"amazon\", \"gift\", \"price\", \"easy\", \"read\", \"son\", \"control\", \"hd\", \"use\", \"christmas\", \"product\", \"granddaughter\", \"good\", \"watch\", \"parental\", \"play\", \"device\", \"game\", \"watch\", \"movie\", \"child\", \"video\", \"picture\", \"web\", \"email\", \"camera\", \"netflix\", \"beat\", \"slow\", \"clear\", \"surf\", \"reading\", \"basic\", \"display\", \"browse\", \"tv\", \"carry\", \"cost\", \"fit\", \"stream\", \"weight\", \"lightweight\", \"table\", \"graphic\", \"stop\", \"mini\", \"sister\", \"travel\", \"size\", \"view\", \"internet\", \"read\", \"light\", \"book\", \"screen\", \"quality\", \"ipad\", \"use\", \"easy\", \"great\", \"play\", \"tablet\", \"good\", \"price\", \"perfect\", \"nice\", \"need\", \"like\", \"download\", \"work\", \"want\", \"kindle\", \"old\", \"year\", \"hd\", \"new\", \"upgrade\", \"break\", \"warranty\", \"model\", \"facebook\", \"replacement\", \"niece\", \"month\", \"last\", \"figure\", \"receive\", \"charger\", \"dad\", \"browser\", \"own\", \"ago\", \"nook\", \"difference\", \"port\", \"night\", \"brand\", \"boy\", \"generation\", \"die\", \"cable\", \"mom\", \"fire\", \"replace\", \"charge\", \"decide\", \"battery\", \"second\", \"long\", \"ve\", \"life\", \"buy\", \"love\", \"well\", \"day\", \"purchase\", \"far\", \"read\", \"get\", \"use\", \"easy\", \"book\", \"time\", \"wife\", \"tablet\", \"good\", \"like\", \"enjoy\", \"want\", \"amazon\", \"gift\", \"son\", \"christmas\", \"friendly\", \"highly\", \"thank\", \"friend\", \"birthday\", \"tech\", \"affordable\", \"school\", \"satisfied\", \"beginner\", \"exactly\", \"customer\", \"nd\", \"damage\", \"bumper\", \"college\", \"brother\", \"durability\", \"user\", \"advertising\", \"class\", \"smooth\", \"slot\", \"speedy\", \"homework\", \"occupy\", \"exceed\", \"daughter\", \"recommend\", \"product\", \"buy\", \"definitely\", \"love\", \"happy\", \"purchase\", \"parent\", \"absolutely\", \"great\", \"price\", \"tablet\", \"use\", \"good\", \"easy\", \"get\", \"wife\", \"item\", \"perfect\", \"work\", \"give\", \"help\", \"enjoy\", \"want\", \"s\", \"kid\", \"memory\", \"age\", \"load\", \"educational\", \"inch\", \"nephew\", \"tool\", \"toddler\", \"one\", \"entertain\", \"ton\", \"impressed\", \"appropriate\", \"kids\", \"starter\", \"silk\", \"benefit\", \"pink\", \"trouble\", \"additional\", \"reasonable\", \"hdx\", \"okay\", \"shut\", \"advertisement\", \"oh\", \"yearold\", \"hundred\", \"article\", \"awesome\", \"wonderful\", \"little\", \"decent\", \"space\", \"tablet\", \"expect\", \"learn\", \"lot\", \"stuff\", \"powerful\", \"great\", \"app\", \"plus\", \"storage\", \"overall\", \"good\", \"price\", \"nice\", \"fast\", \"love\", \"run\", \"well\", \"feature\", \"fire\", \"thing\", \"amazon\", \"need\", \"work\", \"play\", \"like\", \"get\", \"use\", \"card\", \"android\", \"available\", \"limit\", \"fine\", \"content\", \"member\", \"adult\", \"inexpensive\", \"offer\", \"profile\", \"os\", \"person\", \"freeze\", \"freetime\", \"close\", \"sell\", \"mainly\", \"believe\", \"live\", \"support\", \"subscription\", \"ram\", \"busy\", \"surprise\", \"monitor\", \"certain\", \"research\", \"require\", \"useful\", \"sd\", \"free\", \"account\", \"amazon\", \"prime\", \"device\", \"app\", \"wifi\", \"capability\", \"download\", \"not\", \"allow\", \"store\", \"find\", \"work\", \"sure\", \"want\", \"time\", \"think\", \"thing\", \"m\", \"like\", \"good\", \"google\", \"ad\", \"young\", \"pleased\", \"present\", \"mother\", \"will\", \"grandkid\", \"let\", \"keyboard\", \"worry\", \"grand\", \"bring\", \"search\", \"responsive\", \"annoying\", \"perform\", \"unlimited\", \"lag\", \"geek\", \"playing\", \"law\", \"application\", \"past\", \"excited\", \"squad\", \"operating\", \"advertise\", \"exchange\", \"pop\", \"return\", \"not\", \"store\", \"previous\", \"screen\", \"far\", \"know\", \"star\", \"play\", \"issue\", \"go\", \"problem\", \"pay\", \"take\", \"case\", \"like\", \"buy\", \"work\", \"time\", \"purchase\", \"m\", \"amazon\", \"get\", \"granddaughter\", \"yr\", \"listen\", \"speaker\", \"original\", \"program\", \"lock\", \"ask\", \"strong\", \"helpful\", \"operate\", \"savvy\", \"cool\", \"improvement\", \"instruction\", \"handy\", \"kind\", \"step\", \"fix\", \"house\", \"selection\", \"lose\", \"bluetooth\", \"volume\", \"respond\", \"bulky\", \"pair\", \"cord\", \"question\", \"key\", \"experience\", \"shop\", \"music\", \"alexa\", \"computer\", \"sound\", \"like\", \"play\", \"charge\", \"control\", \"parental\", \"black\", \"friday\", \"reader\", \"speed\", \"library\", \"learning\", \"ebook\", \"setting\", \"wrong\", \"budget\", \"functionality\", \"away\", \"micro\", \"grandchild\", \"page\", \"level\", \"car\", \"reliable\", \"activity\", \"number\", \"girl\", \"special\", \"thrilled\", \"suppose\", \"idea\", \"soon\", \"toy\", \"capacity\", \"electronic\", \"grandson\", \"gb\", \"huge\", \"set\", \"like\", \"device\", \"ok\", \"daily\", \"right\"], \"Freq\": [6651.0, 1956.0, 4739.0, 2404.0, 2155.0, 2538.0, 3357.0, 4424.0, 2391.0, 1751.0, 2041.0, 1506.0, 1496.0, 2274.0, 896.0, 2102.0, 2444.0, 1607.0, 747.0, 480.0, 902.0, 3286.0, 708.0, 1165.0, 454.0, 3147.0, 831.0, 413.0, 1416.0, 833.0, 1505.2944789914902, 830.2222039239082, 633.5596762845593, 610.380335469648, 534.7183593722094, 338.5374242794604, 331.5985271854724, 317.2300006820347, 292.4601665452826, 278.4883137233253, 252.04254677986762, 248.15496344855987, 233.52959787078237, 217.57171569605845, 215.0502578585871, 203.48499873252138, 191.30297874820994, 156.06986394624198, 154.60946771408373, 153.0344387268992, 147.65551121190802, 132.69254301152705, 119.85155340517636, 114.33122942380878, 110.41238962557125, 109.01304087910067, 108.96552950679036, 96.13040169312733, 91.96109559187651, 87.22735091678096, 236.14690758802425, 672.5428343940163, 142.8029977471431, 392.6283118018063, 1127.6185590963505, 316.2601632254229, 956.6876045209943, 970.9568276285725, 380.77935347898676, 571.4558338514929, 1510.3337696104286, 1209.5815381243153, 1834.1930336134974, 758.1607954204239, 2015.1314566259673, 1050.3022077061037, 812.7671736194516, 458.72206826944785, 444.7770562876918, 431.43580895276216, 468.41431109189904, 343.22172936096683, 415.25687549063343, 313.17007293282535, 2403.774623196865, 2154.67753539201, 1750.8431975134108, 901.4254806369291, 721.5425136292995, 290.31795431494703, 252.4902532881165, 205.05436163445293, 203.81731821672545, 168.9473036216754, 166.37772500999125, 150.61163068391315, 143.24822783598776, 112.99581174468321, 107.80355378335626, 107.37231474949898, 99.49047836735471, 96.44029741318265, 91.52514836230074, 89.97438933024554, 79.50729358158368, 77.52823794169473, 75.66904047241921, 74.47542525244573, 71.42110936729341, 70.53495025287093, 66.60978135139985, 65.46599090749237, 60.99568732633427, 59.247776612734086, 232.13275901546504, 2086.480653305774, 329.0742374773622, 442.7736362844898, 161.9145399066975, 511.84454683127825, 166.04925157570082, 393.1351285789327, 227.50424977671304, 298.64666479593694, 1345.0322803845263, 1644.008058272585, 426.42679661346483, 218.7417599064791, 560.7978530680534, 291.52745589405686, 478.6924704114521, 389.75568832513477, 598.6619780393863, 483.85622704741456, 377.8936176402221, 336.1935194829945, 233.84386198986414, 393.7863368029708, 323.30130727484055, 290.12613006933907, 246.56619935398925, 253.55835393465492, 241.06335096373846, 895.5981916685967, 746.373872926928, 707.3194043712949, 287.1973528095063, 186.98074560359905, 149.05851758855815, 139.60635019924425, 138.4376785810184, 128.8372252224373, 125.2537548933863, 113.59365220012302, 100.32278985320522, 91.35582334197176, 71.48529524652875, 70.98707155164263, 69.68730105377105, 62.58240806062409, 48.37906407818607, 41.28446819600175, 39.78986967064244, 39.81896910431873, 321.26150825081714, 36.11335623692806, 35.70000799343255, 34.75484740908913, 34.14735887407092, 32.120660925419585, 31.706574469924913, 29.700555921506467, 28.63876099604789, 580.6801328170577, 569.2695205414935, 784.660802907571, 1725.1361765249706, 151.30913037936497, 1980.609922357785, 331.40921015243373, 769.3534407971242, 99.1471967087992, 140.53923564303753, 1504.2701120689853, 792.6685733422206, 1533.2930240775363, 940.6072674945829, 905.5693284028243, 750.1745163928259, 444.61405808065723, 216.2245659755226, 169.88784426181624, 269.5541112675975, 330.14329645445525, 154.6099349172846, 145.69762133200604, 163.8482605880042, 167.79281122720846, 149.5855504799243, 1955.3553115911975, 257.6533817541356, 234.38480395212787, 211.80909141157926, 173.3477115584812, 168.3847985730486, 117.66578162217122, 107.32891836585655, 107.00513022140703, 106.4738143016489, 97.56215321322395, 79.22494555372398, 78.1676516509117, 71.83501656625837, 49.57904697291944, 45.445189351492274, 44.27840580248247, 42.746113636025505, 41.47545847107271, 40.14231012585802, 39.93324722243575, 39.84746318616175, 36.29676572341883, 36.23642980213769, 35.60156545130261, 34.597018011834116, 34.437553212519035, 34.00501605385665, 30.02986374730939, 28.32963125842563, 268.09578641486775, 90.96216883455934, 388.5066895162938, 110.52983823450647, 103.29409536021073, 2709.065855225978, 171.80663684328977, 233.51664321933248, 358.9347356328376, 87.38444773060162, 57.676847772456966, 1400.7830950559671, 743.1234383366964, 105.45320726754578, 144.13679826169923, 151.26871261136745, 676.4823742301832, 496.45302025021965, 252.1586142075015, 231.8956556596, 479.3684771314633, 127.76826044080997, 217.53153192350467, 188.2873090398636, 303.8678695879038, 182.94215454054503, 254.3303087789541, 200.18841936626424, 213.89262115157808, 204.62921642779176, 172.88178670995038, 160.66028168019355, 160.60219458693857, 362.6395532558029, 324.4374178943891, 281.20019021376424, 221.29659448006743, 211.71598481861622, 206.05952206901222, 180.19337253794166, 172.53236247634945, 170.65542969807984, 164.96301103902587, 119.34185510439602, 105.37301644401106, 97.86568198228916, 97.7393217244816, 89.93741466888201, 89.09127156304565, 82.73838015406422, 82.14508620752618, 76.29366395605669, 75.30950761877767, 70.34066143625297, 70.0627213985803, 66.74277634557447, 63.420483545350535, 62.960759263031825, 61.29088921315394, 60.26816121153357, 60.28249962205513, 59.02634229714378, 54.21711612468319, 205.31030125814812, 377.39515524192785, 192.75727209365942, 1348.1851136695188, 330.8144996759626, 549.1497808909741, 1069.2357805398126, 171.22005754388172, 87.74865496272767, 276.27397333175463, 497.7464666079624, 124.33871880908752, 206.80692042769786, 172.81387773638394, 286.0016012824714, 124.01662718731538, 213.86795779153337, 220.43118698267426, 150.15773115057803, 177.14981307810336, 157.62340649956215, 185.0519228425964, 189.46412244783014, 448.3678365882329, 210.93878313135954, 193.7653377772936, 190.9575587894014, 185.04498990497243, 173.25638422765792, 145.08557513619286, 136.22682443417997, 132.6795990060265, 123.02259239018677, 121.92811532397515, 118.10548390347304, 92.7524000371526, 93.00270585530292, 81.70475775766774, 76.4415718224046, 73.84802008451597, 71.15541258128643, 66.35317844321679, 61.455684843411625, 60.81063773430589, 60.062402323390764, 58.78391986800937, 56.54355729469301, 55.69799419896587, 54.733463314970706, 53.902780478277656, 51.445844844284984, 50.86598390409026, 49.45662867127667, 184.91268618302985, 1430.0504750081122, 409.757012736474, 119.60731099300607, 524.5526672518749, 267.3168552121441, 176.75819476118713, 97.58554414052004, 367.5243197609551, 150.05966336414747, 159.89969794804333, 142.94120704528947, 124.77058885171718, 142.59696714843372, 150.76389136684196, 230.26529171455584, 281.9482080951124, 202.8774047544868, 176.90996871171345, 182.13537145640765, 135.04426999657585, 153.03286892068132, 133.26991444245274, 453.669625946904, 408.9401848335264, 219.42932063354738, 197.02764457901557, 188.83044944990408, 179.34748001153628, 160.00340469231378, 150.00995356578863, 133.96808583628413, 124.91026521191246, 114.05834650214133, 102.23746507719751, 100.76902100673982, 99.50379202721864, 97.90313318949138, 90.55845382118675, 90.05590120508155, 89.39790866635406, 82.05230591244333, 74.71290088257338, 73.15238422671014, 71.7774128752672, 71.46333129080155, 68.54543277561105, 61.79170513999299, 61.71485838028758, 59.61788479769616, 59.11949745361836, 57.439919256972075, 55.03213106833648, 147.9502315666422, 74.51281727325747, 207.13450150948657, 91.77168213956594, 80.5039237478599, 76.24295083183625, 100.8752705722386, 85.46853155091124, 73.10041869436837, 479.86174030777556, 412.4520628395078, 393.0303671924904, 324.4915922965548, 235.17741003404916, 218.20764044700715, 177.47418951608861, 159.6859721874154, 144.51778338647046, 118.61081395059843, 108.51241185853803, 93.90759597274541, 91.76919479402008, 89.91128590233497, 88.32535394317601, 85.61413671613715, 85.70764945502923, 80.77451259916614, 72.15845276523464, 67.2032421263109, 65.15870275171122, 53.57289695563493, 52.890497388793605, 51.3249949317266, 48.66994046358618, 48.63416587010729, 47.80784578886601, 47.52947545100891, 47.23539258467687, 44.86069720763227, 80.40492600421688, 226.91623012562036, 138.28663827359313, 70.05328627111751, 133.44844716126525, 188.0230143624549, 131.28349865293305, 66.43748027013308, 60.409605947292405, 66.8629081165288], \"Total\": [6651.0, 1956.0, 4739.0, 2404.0, 2155.0, 2538.0, 3357.0, 4424.0, 2391.0, 1751.0, 2041.0, 1506.0, 1496.0, 2274.0, 896.0, 2102.0, 2444.0, 1607.0, 747.0, 480.0, 902.0, 3286.0, 708.0, 1165.0, 454.0, 3147.0, 831.0, 413.0, 1416.0, 833.0, 1506.2677658655623, 831.1953560489764, 634.5326254893473, 611.3538540525177, 535.6916374434666, 339.5104863276119, 332.57157811608585, 318.20336918002647, 293.4332306206251, 279.4615309780539, 253.01603626148724, 249.12850608082172, 234.50248051555536, 218.54460768144708, 216.02320107060197, 204.45851278231856, 192.27663727573727, 157.0427396688822, 155.58295150695218, 154.00741414027115, 148.6289238722724, 133.66573123052441, 120.82465408761263, 115.30421284216794, 111.38587104682705, 109.98701851226144, 109.93922685706288, 97.10584429157032, 92.93466399040102, 88.20122045508494, 241.40004440067855, 784.9960632157465, 149.89769070354157, 460.4622403947459, 1607.1549847278864, 378.0767257325829, 1379.8855534636177, 1496.3504031924424, 499.4368585680342, 850.7834254477808, 3286.55043282533, 2444.3366154194237, 4739.984188115747, 1416.3202056368837, 6651.885306203608, 3147.4544683194445, 2102.626951319555, 810.4864801834403, 789.3846750265278, 1022.5438586568723, 1748.1384472341445, 736.6710842576467, 1595.7221022311799, 994.9940404434897, 2404.7391957808336, 2155.641899956846, 1751.807430842226, 902.3911079323253, 722.5070519345738, 291.28235554636274, 253.45468253431957, 206.01912586106073, 204.78203749818047, 169.91302061023808, 167.34218023337493, 151.5758880945309, 144.2124269189443, 113.96000477424182, 108.76862107829109, 108.33763328340846, 100.46067075830865, 97.40580380996346, 92.49480386775242, 90.93886332726866, 80.47180387081065, 78.4923414357901, 76.63533713229423, 75.43951811469726, 72.38553450741588, 71.49970247582485, 67.57432813741991, 66.4299633337421, 61.95990250912413, 60.212407452484115, 242.01955836593064, 2391.197403339435, 370.1969807072054, 517.6454934016538, 176.8147280417657, 650.4020476430092, 187.72368263280876, 505.5703847752483, 278.38960842128705, 430.62678585923254, 3357.376644792889, 4424.266367650041, 869.4632547410213, 341.52744719543205, 1647.9439739066047, 559.676447963905, 1607.1549847278864, 1232.4937735162866, 3286.55043282533, 2444.3366154194237, 1379.8855534636177, 1108.844184347066, 450.91352429509516, 6651.885306203608, 3147.4544683194445, 1748.1384472341445, 674.9718002808487, 994.9940404434897, 2274.343007694773, 896.5723173069458, 747.3483044196066, 708.2936282852415, 288.1716962061654, 187.95524664321525, 150.0334169119172, 140.58085302344972, 139.41190147320927, 129.81349686190163, 126.22825447438048, 114.56814573209675, 101.2983448329564, 92.32978007396467, 72.45963564093498, 71.96252339589998, 70.66243444482808, 63.557244606637155, 49.353622689921174, 42.26006641621684, 40.764324321938304, 40.795823522544204, 329.77842155206355, 37.08909774906664, 36.674413437417215, 35.73232105910682, 35.122762909343905, 33.10395082794939, 32.68069876203405, 30.67469392989546, 29.61501509337875, 704.9139342847366, 737.5294817865604, 1165.0123811722606, 3357.376644792889, 203.4535512846758, 4424.266367650041, 559.769778165412, 1647.9439739066047, 129.80482896803738, 205.87822620884816, 4739.984188115747, 2102.626951319555, 6651.885306203608, 3286.55043282533, 3147.4544683194445, 2444.3366154194237, 1232.4937735162866, 450.91352429509516, 293.23013932654914, 810.4864801834403, 1595.7221022311799, 308.36961504386113, 249.53820909356412, 674.9718002808487, 994.9940404434897, 431.83011889529683, 1956.3329139504528, 258.6319800639957, 235.3624087619617, 212.78773274952982, 174.3253463154521, 169.36386257658356, 118.64341145557482, 108.30664298989781, 107.98313565940673, 107.45176804927962, 98.53948567669084, 80.2025754342029, 79.14587470355781, 72.81255625920592, 50.55650655817507, 46.422737541032916, 45.259772405135, 43.73050369190497, 42.453132497299386, 41.122041295750485, 40.910940428515346, 40.82525952626208, 37.277110097006215, 37.21531095815589, 36.58117391356195, 35.579757865961234, 35.416495770439084, 34.98457140731286, 31.01049207131006, 29.310593967068556, 319.8738064521416, 101.93531362924796, 563.0243601949654, 134.1569776560796, 126.84041407391274, 6651.885306203608, 248.86446234468445, 375.4064160471414, 725.7552858076748, 113.5150223307522, 66.52707846706046, 4739.984188115747, 2041.1098008242186, 162.69557797237033, 273.90136632388874, 299.70250963315937, 3147.4544683194445, 2102.626951319555, 789.3846750265278, 710.6299671193002, 4424.266367650041, 244.24176254026943, 869.4632547410213, 656.8116175338386, 2391.197403339435, 680.6320026973891, 2274.343007694773, 1022.5438586568723, 1595.7221022311799, 1416.3202056368837, 1748.1384472341445, 1232.4937735162866, 3286.55043282533, 363.59265515487607, 325.3899532271606, 282.1527338342607, 222.2492045922568, 212.6688899145648, 207.01214302363704, 181.14594428641593, 173.48492531513645, 171.60893060549313, 165.9160268951842, 120.2945164780752, 106.32548871867715, 98.81888977124045, 98.69254093091367, 90.89003908083298, 90.04436629957313, 83.69234325668474, 83.09863070935023, 77.24651904938113, 76.26271057078552, 71.29351306426713, 71.01504170750643, 67.69757906749594, 64.37294069746376, 63.9142161400826, 62.24457949978417, 61.22152296168022, 61.23609261497424, 59.97881990268893, 55.16978855853897, 232.7466662776672, 473.41040651285107, 235.81631739251142, 2274.343007694773, 448.98460681109964, 833.1709144906347, 2041.1098008242186, 227.63707426020352, 96.2536712600683, 736.6710842576467, 2538.7528970566786, 198.56778806789418, 617.3839464674979, 474.55771183837794, 1595.7221022311799, 219.65416277205398, 994.9940404434897, 1108.844184347066, 377.7256343859227, 680.6320026973891, 539.235021034286, 1748.1384472341445, 3147.4544683194445, 449.3288361882575, 211.8999440806707, 194.72647486767977, 191.91852192746973, 186.00602589028853, 174.21750844273254, 146.04643977186896, 137.1876837199755, 133.6409363183375, 123.98454052601612, 122.88910789113096, 119.06653688298991, 93.71328690933318, 94.07717359719075, 82.66699460046311, 77.4024956104149, 74.80964370398686, 72.11757970153829, 67.31526817225947, 62.41645910042868, 61.77279725158217, 61.02359921572837, 59.745018432509056, 57.50588354240375, 56.66009259341127, 55.69438279351416, 54.86427983514563, 52.407459328691225, 51.8269463692136, 50.417825357569065, 228.68372994616087, 2538.7528970566786, 617.3839464674979, 166.9730906852213, 1496.3504031924424, 559.676447963905, 333.49953697472716, 133.7409725762732, 1416.3202056368837, 318.7203667833624, 446.84529948415513, 357.26861256083316, 267.4115392903237, 379.1961408667543, 501.8406446248479, 1748.1384472341445, 3357.376644792889, 1595.7221022311799, 1108.844184347066, 1647.9439739066047, 539.235021034286, 2274.343007694773, 1232.4937735162866, 454.5740901670669, 409.844935935202, 220.33404750492596, 197.93263815282785, 189.73529766348696, 180.25255724527568, 160.90881440531018, 150.91472290968247, 134.87362508345618, 125.81530669210281, 114.96283693971526, 103.14301058522632, 101.67484145272078, 100.40910030403201, 98.80783727831779, 91.4634881235163, 90.96070979271377, 90.30286596220107, 82.95795884799189, 75.61763154778244, 74.05699928151371, 72.68223850025107, 72.36798187883711, 69.45172204027126, 62.6967896847621, 62.62042143832189, 60.52385858779616, 60.0240010517374, 58.34435858774564, 55.93760025650998, 167.9931971470866, 79.11972997389672, 344.8414622695834, 148.1414326158674, 223.577850759304, 182.31999318553176, 1748.1384472341445, 1416.3202056368837, 517.6454934016538, 480.8094345992664, 413.39975736567374, 393.9789267300708, 325.4398750703556, 236.12513921835904, 219.15607369670568, 178.42268317106084, 160.63379381064243, 145.4660345912041, 119.55881478468282, 109.46129507877451, 94.85646198208417, 92.71754319696603, 90.85955818951608, 89.27381910183364, 86.56173161182294, 86.65646784453817, 81.72241320514586, 73.10629693515781, 68.15146265207169, 66.10694518241155, 54.52087801513469, 53.83822650566438, 52.27307740434396, 49.61811081383554, 49.58269261282452, 48.75642318075129, 48.478131206237215, 48.18408523360001, 45.80989982743435, 93.43542732924749, 406.2778367681001, 285.7771926277326, 94.62663406889016, 660.5102609282823, 1748.1384472341445, 833.1709144906347, 139.70973048670936, 123.87559276690774, 328.31669800162575], \"Category\": [\"Default\", \"Default\", \"Default\", \"Default\", \"Default\", \"Default\", \"Default\", \"Default\", \"Default\", \"Default\", \"Default\", \"Default\", \"Default\", \"Default\", \"Default\", \"Default\", \"Default\", \"Default\", \"Default\", \"Default\", \"Default\", \"Default\", \"Default\", \"Default\", \"Default\", \"Default\", \"Default\", \"Default\", \"Default\", \"Default\", \"Topic1\", \"Topic1\", \"Topic1\", \"Topic1\", \"Topic1\", \"Topic1\", \"Topic1\", \"Topic1\", \"Topic1\", \"Topic1\", \"Topic1\", \"Topic1\", \"Topic1\", \"Topic1\", \"Topic1\", \"Topic1\", \"Topic1\", \"Topic1\", \"Topic1\", \"Topic1\", \"Topic1\", \"Topic1\", \"Topic1\", \"Topic1\", \"Topic1\", \"Topic1\", \"Topic1\", \"Topic1\", \"Topic1\", \"Topic1\", \"Topic1\", \"Topic1\", \"Topic1\", \"Topic1\", \"Topic1\", \"Topic1\", \"Topic1\", \"Topic1\", \"Topic1\", \"Topic1\", \"Topic1\", \"Topic1\", \"Topic1\", \"Topic1\", \"Topic1\", \"Topic1\", \"Topic1\", \"Topic1\", \"Topic1\", \"Topic1\", \"Topic1\", \"Topic1\", \"Topic1\", \"Topic1\", \"Topic2\", \"Topic2\", \"Topic2\", \"Topic2\", \"Topic2\", \"Topic2\", \"Topic2\", \"Topic2\", \"Topic2\", \"Topic2\", \"Topic2\", \"Topic2\", \"Topic2\", \"Topic2\", \"Topic2\", \"Topic2\", \"Topic2\", \"Topic2\", \"Topic2\", \"Topic2\", \"Topic2\", \"Topic2\", \"Topic2\", \"Topic2\", \"Topic2\", \"Topic2\", \"Topic2\", \"Topic2\", \"Topic2\", \"Topic2\", \"Topic2\", \"Topic2\", \"Topic2\", \"Topic2\", \"Topic2\", \"Topic2\", \"Topic2\", \"Topic2\", \"Topic2\", \"Topic2\", \"Topic2\", \"Topic2\", \"Topic2\", \"Topic2\", \"Topic2\", \"Topic2\", \"Topic2\", \"Topic2\", \"Topic2\", \"Topic2\", \"Topic2\", \"Topic2\", \"Topic2\", \"Topic2\", \"Topic2\", \"Topic2\", \"Topic2\", \"Topic2\", \"Topic2\", \"Topic3\", \"Topic3\", \"Topic3\", \"Topic3\", \"Topic3\", \"Topic3\", \"Topic3\", \"Topic3\", \"Topic3\", \"Topic3\", \"Topic3\", \"Topic3\", \"Topic3\", \"Topic3\", \"Topic3\", \"Topic3\", \"Topic3\", \"Topic3\", \"Topic3\", \"Topic3\", \"Topic3\", \"Topic3\", \"Topic3\", \"Topic3\", \"Topic3\", \"Topic3\", \"Topic3\", \"Topic3\", \"Topic3\", \"Topic3\", \"Topic3\", \"Topic3\", \"Topic3\", \"Topic3\", \"Topic3\", \"Topic3\", \"Topic3\", \"Topic3\", \"Topic3\", \"Topic3\", \"Topic3\", \"Topic3\", \"Topic3\", \"Topic3\", \"Topic3\", \"Topic3\", \"Topic3\", \"Topic3\", \"Topic3\", \"Topic3\", \"Topic3\", \"Topic3\", \"Topic3\", \"Topic3\", \"Topic3\", \"Topic3\", \"Topic4\", \"Topic4\", \"Topic4\", \"Topic4\", \"Topic4\", \"Topic4\", \"Topic4\", \"Topic4\", \"Topic4\", \"Topic4\", \"Topic4\", \"Topic4\", \"Topic4\", \"Topic4\", \"Topic4\", \"Topic4\", \"Topic4\", \"Topic4\", \"Topic4\", \"Topic4\", \"Topic4\", \"Topic4\", \"Topic4\", \"Topic4\", \"Topic4\", \"Topic4\", \"Topic4\", \"Topic4\", \"Topic4\", \"Topic4\", \"Topic4\", \"Topic4\", \"Topic4\", \"Topic4\", \"Topic4\", \"Topic4\", \"Topic4\", \"Topic4\", \"Topic4\", \"Topic4\", \"Topic4\", \"Topic4\", \"Topic4\", \"Topic4\", \"Topic4\", \"Topic4\", \"Topic4\", \"Topic4\", \"Topic4\", \"Topic4\", \"Topic4\", \"Topic4\", \"Topic4\", \"Topic4\", \"Topic4\", \"Topic4\", \"Topic4\", \"Topic4\", \"Topic4\", \"Topic4\", \"Topic4\", \"Topic4\", \"Topic4\", \"Topic5\", \"Topic5\", \"Topic5\", \"Topic5\", \"Topic5\", \"Topic5\", \"Topic5\", \"Topic5\", \"Topic5\", \"Topic5\", \"Topic5\", \"Topic5\", \"Topic5\", \"Topic5\", \"Topic5\", \"Topic5\", \"Topic5\", \"Topic5\", \"Topic5\", \"Topic5\", \"Topic5\", \"Topic5\", \"Topic5\", \"Topic5\", \"Topic5\", \"Topic5\", \"Topic5\", \"Topic5\", \"Topic5\", \"Topic5\", \"Topic5\", \"Topic5\", \"Topic5\", \"Topic5\", \"Topic5\", \"Topic5\", \"Topic5\", \"Topic5\", \"Topic5\", \"Topic5\", \"Topic5\", \"Topic5\", \"Topic5\", \"Topic5\", \"Topic5\", \"Topic5\", \"Topic5\", \"Topic5\", \"Topic5\", \"Topic5\", \"Topic5\", \"Topic5\", \"Topic5\", \"Topic6\", \"Topic6\", \"Topic6\", \"Topic6\", \"Topic6\", \"Topic6\", \"Topic6\", \"Topic6\", \"Topic6\", \"Topic6\", \"Topic6\", \"Topic6\", \"Topic6\", \"Topic6\", \"Topic6\", \"Topic6\", \"Topic6\", \"Topic6\", \"Topic6\", \"Topic6\", \"Topic6\", \"Topic6\", \"Topic6\", \"Topic6\", \"Topic6\", \"Topic6\", \"Topic6\", \"Topic6\", \"Topic6\", \"Topic6\", \"Topic6\", \"Topic6\", \"Topic6\", \"Topic6\", \"Topic6\", \"Topic6\", \"Topic6\", \"Topic6\", \"Topic6\", \"Topic6\", \"Topic6\", \"Topic6\", \"Topic6\", \"Topic6\", \"Topic6\", \"Topic6\", \"Topic6\", \"Topic6\", \"Topic6\", \"Topic6\", \"Topic6\", \"Topic6\", \"Topic6\", \"Topic7\", \"Topic7\", \"Topic7\", \"Topic7\", \"Topic7\", \"Topic7\", \"Topic7\", \"Topic7\", \"Topic7\", \"Topic7\", \"Topic7\", \"Topic7\", \"Topic7\", \"Topic7\", \"Topic7\", \"Topic7\", \"Topic7\", \"Topic7\", \"Topic7\", \"Topic7\", \"Topic7\", \"Topic7\", \"Topic7\", \"Topic7\", \"Topic7\", \"Topic7\", \"Topic7\", \"Topic7\", \"Topic7\", \"Topic7\", \"Topic7\", \"Topic7\", \"Topic7\", \"Topic7\", \"Topic7\", \"Topic7\", \"Topic7\", \"Topic7\", \"Topic7\", \"Topic8\", \"Topic8\", \"Topic8\", \"Topic8\", \"Topic8\", \"Topic8\", \"Topic8\", \"Topic8\", \"Topic8\", \"Topic8\", \"Topic8\", \"Topic8\", \"Topic8\", \"Topic8\", \"Topic8\", \"Topic8\", \"Topic8\", \"Topic8\", \"Topic8\", \"Topic8\", \"Topic8\", \"Topic8\", \"Topic8\", \"Topic8\", \"Topic8\", \"Topic8\", \"Topic8\", \"Topic8\", \"Topic8\", \"Topic8\", \"Topic8\", \"Topic8\", \"Topic8\", \"Topic8\", \"Topic8\", \"Topic8\", \"Topic8\", \"Topic8\", \"Topic8\", \"Topic8\"], \"logprob\": [30.0, 29.0, 28.0, 27.0, 26.0, 25.0, 24.0, 23.0, 22.0, 21.0, 20.0, 19.0, 18.0, 17.0, 16.0, 15.0, 14.0, 13.0, 12.0, 11.0, 10.0, 9.0, 8.0, 7.0, 6.0, 5.0, 4.0, 3.0, 2.0, 1.0, -3.3145, -3.9095, -4.1799, -4.2172, -4.3495, -4.8066, -4.8273, -4.8716, -4.9529, -5.0019, -5.1016, -5.1172, -5.1779, -5.2487, -5.2604, -5.3156, -5.3774, -5.5809, -5.5903, -5.6006, -5.6364, -5.7432, -5.845, -5.8921, -5.927, -5.9398, -5.9402, -6.0655, -6.1099, -6.1627, -5.1668, -4.1202, -5.6698, -4.6584, -3.6034, -4.8747, -3.7678, -3.753, -4.689, -4.283, -3.3111, -3.5332, -3.1169, -4.0003, -3.0228, -3.6744, -3.9308, -4.5028, -4.5337, -4.5641, -4.4819, -4.7929, -4.6023, -4.8845, -2.7928, -2.9022, -3.1098, -3.7737, -3.9962, -4.9067, -5.0463, -5.2544, -5.2604, -5.4481, -5.4634, -5.5629, -5.6131, -5.8503, -5.8973, -5.9013, -5.9776, -6.0087, -6.061, -6.0781, -6.2018, -6.227, -6.2513, -6.2672, -6.309, -6.3215, -6.3788, -6.3961, -6.4668, -6.4959, -5.1303, -2.9344, -4.7814, -4.4846, -5.4906, -4.3396, -5.4654, -4.6035, -5.1505, -4.8784, -3.3735, -3.1727, -4.5222, -5.1897, -4.2483, -4.9025, -4.4066, -4.6121, -4.1829, -4.3958, -4.643, -4.76, -5.123, -4.6018, -4.7991, -4.9073, -5.07, -5.042, -5.0926, -3.4098, -3.592, -3.6458, -4.5471, -4.9763, -5.2029, -5.2684, -5.2768, -5.3487, -5.3769, -5.4746, -5.5989, -5.6925, -5.9378, -5.9448, -5.9632, -6.0708, -6.3282, -6.4868, -6.5236, -6.5229, -4.435, -6.6206, -6.6321, -6.6589, -6.6766, -6.7378, -6.7507, -6.8161, -6.8525, -3.8431, -3.8629, -3.542, -2.7542, -5.1879, -2.6161, -4.4039, -3.5617, -5.6107, -5.2618, -2.8912, -3.5319, -2.8721, -3.3607, -3.3987, -3.587, -4.11, -4.8309, -5.0721, -4.6105, -4.4077, -5.1664, -5.2257, -5.1083, -5.0845, -5.1994, -2.4708, -4.4975, -4.5921, -4.6934, -4.8938, -4.9228, -5.2812, -5.3732, -5.3762, -5.3812, -5.4686, -5.6768, -5.6902, -5.7747, -6.1455, -6.2326, -6.2586, -6.2938, -6.324, -6.3566, -6.3619, -6.364, -6.4574, -6.459, -6.4767, -6.5053, -6.5099, -6.5226, -6.6469, -6.7052, -4.4577, -5.5386, -4.0868, -5.3438, -5.4115, -2.1447, -4.9027, -4.5958, -4.1659, -5.5788, -5.9942, -2.8043, -3.4382, -5.3908, -5.0783, -5.03, -3.5322, -3.8416, -4.519, -4.6028, -3.8766, -5.1989, -4.6667, -4.8111, -4.3325, -4.8399, -4.5104, -4.7498, -4.6836, -4.7279, -4.8965, -4.9698, -4.9701, -4.1508, -4.2621, -4.4051, -4.6447, -4.6889, -4.716, -4.8502, -4.8936, -4.9045, -4.9385, -5.2622, -5.3867, -5.4606, -5.4619, -5.5451, -5.5545, -5.6285, -5.6357, -5.7096, -5.7226, -5.7908, -5.7948, -5.8433, -5.8944, -5.9017, -5.9286, -5.9454, -5.9451, -5.9662, -6.0512, -4.7197, -4.1109, -4.7828, -2.8377, -4.2426, -3.7358, -3.0695, -4.9012, -5.5697, -4.4228, -3.8341, -5.2212, -4.7124, -4.892, -4.3882, -5.2238, -4.6788, -4.6486, -5.0325, -4.8672, -4.984, -4.8236, -4.8, -3.623, -4.3771, -4.462, -4.4766, -4.5081, -4.5739, -4.7513, -4.8143, -4.8407, -4.9163, -4.9252, -4.9571, -5.1987, -5.196, -5.3255, -5.3921, -5.4266, -5.4638, -5.5337, -5.6103, -5.6209, -5.6333, -5.6548, -5.6936, -5.7087, -5.7262, -5.7415, -5.7881, -5.7995, -5.8276, -4.5088, -2.4632, -3.7131, -4.9444, -3.4661, -4.1402, -4.5539, -5.1479, -3.8219, -4.7176, -4.6541, -4.7662, -4.9022, -4.7686, -4.7129, -4.2894, -4.0869, -4.4161, -4.553, -4.5239, -4.8231, -4.698, -4.8363, -3.1678, -3.2716, -3.8941, -4.0018, -4.0443, -4.0958, -4.21, -4.2745, -4.3876, -4.4576, -4.5485, -4.6579, -4.6723, -4.685, -4.7012, -4.7792, -4.7847, -4.7921, -4.8778, -4.9715, -4.9926, -5.0116, -5.016, -5.0577, -5.1614, -5.1626, -5.1972, -5.2056, -5.2344, -5.2772, -4.2883, -4.9742, -3.9518, -4.7659, -4.8969, -4.9512, -4.6713, -4.837, -4.9933, -3.0231, -3.1745, -3.2227, -3.4143, -3.7362, -3.8111, -4.0178, -4.1234, -4.2232, -4.4207, -4.5097, -4.6543, -4.6773, -4.6978, -4.7156, -4.7467, -4.7456, -4.8049, -4.9177, -4.9889, -5.0198, -5.2155, -5.2284, -5.2584, -5.3115, -5.3123, -5.3294, -5.3352, -5.3414, -5.393, -4.8095, -3.772, -4.2672, -4.9473, -4.3029, -3.96, -4.3192, -5.0003, -5.0954, -4.9939], \"loglift\": [30.0, 29.0, 28.0, 27.0, 26.0, 25.0, 24.0, 23.0, 22.0, 21.0, 20.0, 19.0, 18.0, 17.0, 16.0, 15.0, 14.0, 13.0, 12.0, 11.0, 10.0, 9.0, 8.0, 7.0, 6.0, 5.0, 4.0, 3.0, 2.0, 1.0, 1.5299, 1.5294, 1.5291, 1.529, 1.5288, 1.5277, 1.5277, 1.5275, 1.5273, 1.5271, 1.5267, 1.5267, 1.5264, 1.5261, 1.5261, 1.5258, 1.5255, 1.5244, 1.5243, 1.5243, 1.524, 1.5233, 1.5225, 1.5221, 1.5218, 1.5217, 1.5217, 1.5205, 1.5201, 1.5195, 1.5086, 1.376, 1.4821, 1.3712, 1.1762, 1.3521, 1.1643, 1.0981, 1.2593, 1.1326, 0.7531, 0.8271, 0.5812, 0.9057, 0.3364, 0.4331, 0.5801, 0.9614, 0.9569, 0.6677, 0.2136, 0.7668, 0.1844, 0.3746, 1.5838, 1.5837, 1.5836, 1.5831, 1.5828, 1.5809, 1.5804, 1.5795, 1.5795, 1.5785, 1.5784, 1.5778, 1.5775, 1.5757, 1.5753, 1.5752, 1.5745, 1.5742, 1.5736, 1.5735, 1.5721, 1.5718, 1.5715, 1.5713, 1.5708, 1.5706, 1.5698, 1.5696, 1.5685, 1.568, 1.5425, 1.4479, 1.4664, 1.428, 1.4962, 1.3446, 1.4615, 1.3327, 1.3823, 1.2182, 0.6694, 0.5942, 0.8718, 1.1386, 0.5063, 0.932, 0.373, 0.4329, -0.1187, -0.0356, 0.289, 0.3908, 0.9276, -1.2427, -0.6916, -0.2118, 0.5771, 0.217, -0.6602, 1.9535, 1.9533, 1.9532, 1.9512, 1.9494, 1.948, 1.9476, 1.9476, 1.947, 1.9468, 1.946, 1.9449, 1.944, 1.941, 1.9409, 1.9407, 1.9391, 1.9346, 1.9312, 1.9304, 1.9303, 1.9284, 1.9279, 1.9276, 1.9268, 1.9264, 1.9244, 1.9243, 1.9223, 1.921, 1.7607, 1.6956, 1.5593, 1.2887, 1.6585, 1.1509, 1.4304, 1.1928, 1.6851, 1.5728, 0.8068, 0.979, 0.4871, 0.7035, 0.7088, 0.7733, 0.935, 1.2196, 1.4087, 0.8537, 0.379, 1.2642, 1.4165, 0.5388, 0.1746, 0.8944, 2.1122, 2.109, 2.1086, 2.1081, 2.1071, 2.1069, 2.1045, 2.1037, 2.1036, 2.1036, 2.1028, 2.1005, 2.1003, 2.0992, 2.0932, 2.0915, 2.0908, 2.09, 2.0894, 2.0886, 2.0886, 2.0885, 2.0861, 2.0861, 2.0856, 2.0847, 2.0847, 2.0843, 2.0806, 2.0787, 1.9362, 1.9988, 1.7417, 1.919, 1.9074, 1.2144, 1.7422, 1.638, 1.4087, 1.8511, 1.97, 0.8937, 1.1024, 1.6791, 1.4707, 1.429, 0.5753, 0.6693, 0.9715, 0.9929, -0.1096, 1.4648, 0.7272, 0.8633, 0.0498, 0.7989, -0.0781, 0.482, 0.1031, 0.1781, -0.201, 0.0752, -0.9059, 2.115, 2.1147, 2.1142, 2.1133, 2.1131, 2.113, 2.1124, 2.1121, 2.1121, 2.1119, 2.1097, 2.1086, 2.1079, 2.1079, 2.1071, 2.107, 2.1062, 2.1061, 2.1052, 2.1051, 2.1042, 2.1041, 2.1034, 2.1027, 2.1026, 2.1022, 2.1019, 2.1019, 2.1016, 2.1002, 1.9922, 1.891, 1.916, 1.5947, 1.8122, 1.7008, 1.4711, 1.8328, 2.0251, 1.1369, 0.4883, 1.6495, 1.0239, 1.1075, 0.3985, 1.546, 0.5803, 0.5021, 1.1951, 0.7716, 0.8877, -0.128, -0.6925, 2.431, 2.4286, 2.4282, 2.4281, 2.428, 2.4276, 2.4266, 2.4261, 2.4259, 2.4254, 2.4253, 2.4251, 2.4229, 2.4217, 2.4215, 2.4207, 2.4202, 2.4197, 2.4188, 2.4177, 2.4175, 2.4173, 2.4169, 2.4163, 2.416, 2.4158, 2.4155, 2.4146, 2.4145, 2.4139, 2.2207, 1.8592, 2.0232, 2.0995, 1.3849, 1.6942, 1.7983, 2.118, 1.0841, 1.6799, 1.4055, 1.5171, 1.6709, 1.4551, 1.2306, 0.4061, -0.044, 0.3707, 0.5977, 0.2306, 1.0486, -0.2656, 0.2087, 2.8747, 2.8744, 2.8725, 2.8721, 2.8719, 2.8716, 2.871, 2.8706, 2.8699, 2.8694, 2.8688, 2.8678, 2.8677, 2.8676, 2.8675, 2.8667, 2.8667, 2.8666, 2.8657, 2.8646, 2.8644, 2.8641, 2.8641, 2.8635, 2.8621, 2.8621, 2.8616, 2.8615, 2.861, 2.8603, 2.7496, 2.8167, 2.3669, 2.3978, 1.8552, 2.0048, 0.0242, 0.069, 0.9192, 2.9633, 2.963, 2.9628, 2.9623, 2.9612, 2.9609, 2.9599, 2.9593, 2.9587, 2.9573, 2.9565, 2.9552, 2.955, 2.9548, 2.9546, 2.9542, 2.9542, 2.9536, 2.9522, 2.9512, 2.9508, 2.9477, 2.9475, 2.9469, 2.946, 2.9459, 2.9456, 2.9455, 2.9454, 2.9443, 2.8151, 2.3828, 2.2394, 2.6646, 1.3659, 0.7355, 1.1174, 2.2219, 2.2471, 1.3739]}, \"token.table\": {\"Topic\": [2, 3, 5, 6, 8, 6, 4, 5, 6, 4, 3, 3, 4, 2, 5, 7, 1, 4, 5, 1, 2, 3, 4, 5, 6, 5, 6, 1, 4, 5, 6, 4, 4, 7, 5, 8, 4, 6, 1, 1, 2, 5, 1, 3, 5, 4, 3, 8, 7, 1, 2, 8, 2, 2, 2, 6, 3, 1, 2, 8, 7, 3, 5, 2, 3, 6, 7, 2, 1, 5, 6, 8, 8, 5, 1, 2, 3, 4, 6, 5, 2, 4, 7, 2, 1, 3, 3, 1, 5, 3, 2, 7, 5, 8, 7, 7, 1, 3, 2, 5, 8, 3, 2, 3, 4, 6, 2, 5, 6, 4, 6, 2, 5, 1, 3, 1, 5, 8, 2, 2, 1, 1, 2, 5, 3, 1, 2, 3, 8, 4, 2, 8, 1, 1, 2, 3, 4, 4, 3, 3, 6, 6, 3, 4, 5, 2, 7, 2, 2, 6, 1, 2, 4, 1, 2, 4, 8, 2, 2, 5, 6, 7, 8, 5, 2, 4, 1, 7, 4, 5, 5, 5, 8, 3, 3, 8, 1, 1, 3, 8, 6, 2, 1, 2, 3, 4, 6, 3, 8, 2, 3, 5, 6, 2, 3, 4, 5, 6, 1, 2, 3, 4, 5, 6, 6, 6, 8, 7, 6, 2, 8, 1, 1, 3, 4, 7, 2, 3, 2, 4, 2, 3, 5, 7, 3, 3, 7, 1, 8, 4, 8, 4, 7, 4, 5, 7, 1, 2, 1, 2, 4, 5, 2, 4, 5, 6, 3, 5, 7, 6, 4, 4, 7, 2, 2, 3, 5, 6, 7, 6, 2, 6, 2, 4, 8, 6, 8, 8, 1, 2, 1, 2, 1, 1, 2, 3, 4, 5, 6, 7, 8, 5, 7, 1, 4, 7, 5, 4, 7, 2, 4, 6, 8, 7, 1, 2, 4, 5, 8, 1, 2, 3, 4, 8, 2, 3, 4, 5, 6, 5, 5, 4, 8, 1, 2, 2, 6, 5, 2, 6, 1, 1, 7, 3, 1, 2, 3, 4, 5, 8, 4, 1, 2, 1, 3, 4, 2, 2, 2, 1, 2, 4, 5, 6, 7, 8, 3, 5, 4, 2, 8, 4, 2, 4, 7, 6, 7, 5, 3, 4, 5, 7, 2, 8, 7, 3, 6, 8, 6, 3, 4, 5, 6, 1, 2, 3, 4, 6, 5, 1, 4, 1, 4, 6, 7, 6, 6, 2, 4, 7, 6, 2, 3, 4, 6, 4, 6, 8, 1, 3, 4, 1, 5, 2, 4, 6, 8, 1, 3, 6, 5, 7, 1, 2, 3, 5, 6, 1, 3, 7, 5, 1, 2, 8, 1, 4, 2, 1, 3, 8, 2, 6, 2, 5, 5, 7, 6, 5, 6, 1, 3, 6, 8, 4, 5, 6, 2, 3, 4, 5, 6, 7, 3, 7, 3, 1, 6, 4, 5, 6, 2, 6, 7, 5, 1, 2, 3, 5, 6, 8, 8, 2, 7, 4, 4, 1, 1, 2, 3, 3, 1, 3, 3, 8, 1, 7, 4, 5, 7, 8, 8, 3, 6, 3, 6, 7, 4, 7, 1, 1, 2, 4, 8, 5, 6, 1, 7, 4, 5, 5, 5, 8, 5, 6, 8, 1, 5, 1, 1, 2, 3, 4, 1, 2, 6, 3, 3, 2, 3, 4, 5, 6, 7, 2, 3, 4, 5, 8, 1, 2, 3, 4, 5, 6, 8, 4, 4, 4, 8, 1, 2, 4, 1, 6, 2, 1, 2, 3, 4, 5, 5, 2, 3, 2, 3, 6, 1, 1, 2, 7, 1, 2, 3, 4, 5, 8, 2, 1, 1, 1, 1, 2, 4, 6, 7, 2, 3, 1, 5, 6, 4, 8, 1, 2, 3, 4, 5, 6, 6, 8, 2, 4, 6, 7], \"Freq\": [0.3108633738425391, 0.684870870496844, 0.8184336102524893, 0.17810472347463496, 0.9832552362031385, 0.9957529763182567, 0.9777335739786511, 0.9972047985480261, 0.9731439122079194, 0.9837054015897089, 0.9706356364763808, 0.9902695757024053, 0.9942114428165137, 0.9941370287713684, 0.37801713545736193, 0.6210281511085232, 0.3021638130928106, 0.06546882617010896, 0.6244718803918086, 0.08178185936365234, 0.10596466724000116, 0.04001155484995894, 0.11168060364713815, 0.5926986366785126, 0.06727217463784306, 0.9957283462092935, 0.9818804859022376, 0.11170393670538034, 0.36401765338639297, 0.5237346856932087, 0.9875300325942544, 0.9888404376806482, 0.955285997665518, 0.9939388093351906, 0.9959145041106077, 0.9905397053799976, 0.8378304024718486, 0.15943787509725477, 0.9928664609632987, 0.19987636950268955, 0.7872053937336697, 0.01230008427708859, 0.9959843009300913, 0.9855974954895442, 0.9838631039337283, 0.9832953286554484, 0.9898724466255086, 0.9975152814943793, 0.9810968629589882, 0.6935357773678094, 0.2739357615935548, 0.03261140018970891, 0.9915007939664313, 0.9930111251023205, 0.9942605813403246, 0.992388625638291, 0.9812501658091518, 0.9933601536048036, 0.994650468490534, 0.9909709685119192, 0.9900923464890288, 0.9725729821612952, 0.9786720836023908, 0.4006103998149933, 0.513794007197668, 0.08399415074187964, 0.0014892579918772985, 0.97986449132696, 0.9951156499296492, 0.9142508420508173, 0.08311371291371067, 0.9823204191564435, 0.9848672825524311, 0.9983700024011112, 0.9934586646630299, 0.22317841569752853, 0.22517108012339931, 0.2490830532338488, 0.3008923283064894, 0.9800474914280588, 0.855798042573251, 0.0019318240238673837, 0.14102315374231902, 0.9854602726889732, 0.9977854821008434, 0.9981735988669369, 0.9816107914427026, 0.9978572486122507, 0.9884016475156416, 0.9701830469501274, 0.6351255257072499, 0.3622899125513186, 0.9951107069911282, 0.9983165168130674, 0.993362748905445, 0.9829401400473993, 0.9957684960915624, 0.9866246575234072, 0.9855675559876683, 0.5085747611197698, 0.4843569153521618, 0.9912323982877798, 0.007093064495984761, 0.8242140944334292, 0.16455909630684645, 0.004255838697590856, 0.6412368955947536, 0.14932914007001113, 0.20788958715629, 0.827388943455151, 0.17144095224746372, 0.9162132690763957, 0.07917892448808357, 0.25067146617971736, 0.7421841449634768, 0.18243555716647447, 0.6589284268710164, 0.15723064466321154, 0.984507682061269, 0.9917096060894538, 0.9933604139648724, 0.46560806760271534, 0.15746511907263844, 0.3746583867590363, 0.9804925246305073, 0.4950218363408086, 0.19800873453632345, 0.3068317167401706, 0.9967962652414787, 0.9923972827620041, 0.12843094255580845, 0.8562062837053898, 0.9962182387222127, 0.2074160727037003, 0.36594121398438556, 0.24297311373862038, 0.18371137868042028, 0.9945251827428763, 0.979855879373062, 0.9792329974697107, 0.9840440846481199, 0.988349955617827, 0.004018251503563297, 0.6911392586128872, 0.30136886276724734, 0.11309981786562781, 0.8809880549533115, 0.9946265412329262, 0.521730012156652, 0.4770613467322811, 0.34617172281267117, 0.3264708930591045, 0.3264708930591045, 0.2664386489646464, 0.34713149693679646, 0.28623123431630587, 0.09744042019278497, 0.9929334299665541, 0.299225987604141, 0.3645499708134957, 0.14329131800761682, 0.09903958744644104, 0.09482513691680525, 0.9968547824985896, 0.8723662869016123, 0.12713295839793393, 0.995019432247924, 0.9884524780829383, 0.2006715498710127, 0.7963492031723347, 0.9902075178992781, 0.9929828442516395, 0.9955756034196968, 0.995868192495938, 0.9959340343913334, 0.9922609770252248, 0.9991583396429958, 0.3744175629137188, 0.13996918239765188, 0.482893679271899, 0.9773063207871246, 0.9784741212853302, 0.08438176503179365, 0.3164316188692262, 0.36105659076104013, 0.13062946317421903, 0.10791129566565918, 0.9993616607429227, 0.9844306441710856, 0.08755726466811473, 0.502643556428066, 0.29185754889371573, 0.1167430195574863, 0.45653383897178873, 0.0783268841373167, 0.10518181584153957, 0.0022379109753519057, 0.3580657560563049, 0.3336029196192434, 0.10262261241620534, 0.2878516620714614, 0.21477673682153192, 0.06004852553146381, 0.0006354341326080827, 0.9970426198337718, 0.991042513615408, 0.9935106241365184, 0.9987370811942758, 0.991342635958489, 0.440585195155924, 0.5587309458122611, 0.9914568540828106, 0.38692112193080064, 0.3173006365234047, 0.29557060622958103, 0.994932533921182, 0.4073103066536507, 0.5913145241331508, 0.9984584201682651, 0.96574009912027, 0.1883479094072419, 0.585080739860794, 0.22842193268537847, 0.9935198131806169, 0.9949176909914702, 0.9791712298751448, 0.9918321754445303, 0.2536283810172039, 0.7397494446335113, 0.9674145102571611, 0.9844856711915257, 0.9855219907815828, 0.9959256650762403, 0.9919471453010418, 0.9964516380158969, 0.9918241578748221, 0.853490179049401, 0.14550595927814217, 0.6711461259361907, 0.09755714264921861, 0.15632650569091658, 0.07404939743253942, 0.08157621134288062, 0.07530111816265904, 0.3702304976330736, 0.47063198851661897, 0.5797494090833661, 0.41946574892502375, 0.9832384612101613, 0.9920591670393816, 0.9993186671138905, 0.9889923850348579, 0.9894381893577667, 0.9996926087526953, 0.22188936353937957, 0.011994019650777276, 0.03298355403963751, 0.5307353695468944, 0.20089982915051935, 0.9804610720870383, 0.991575950034895, 0.9832261743180736, 0.3755929413371934, 0.6233244558361932, 0.9960544179676815, 0.9952040419949559, 0.9911601581890099, 0.9920263323823191, 0.30420773695861675, 0.6943367431345527, 0.8358091849946608, 0.16134291229327313, 0.9875579278251151, 0.2677133500155302, 0.1658907510779995, 0.06464018921315152, 0.09896241357411693, 0.10582685844631001, 0.1315685267170341, 0.057775744340958446, 0.10754296966435829, 0.9943792618086142, 0.9939453410853529, 0.25043321385094985, 0.6909114906951738, 0.05861202877362656, 0.9834426214156984, 0.996298034950835, 0.9943519911654995, 0.777339836024431, 0.08505245025203699, 0.027691495430895764, 0.10878801776423336, 0.9906134082503704, 0.23837235964113254, 0.1556998649679074, 0.49465709312813055, 0.10609636816397229, 0.005511499644881677, 0.06735579986299138, 0.371587030116637, 0.4477578507670669, 0.10826653736366736, 0.004972575828811445, 0.2169740381023228, 0.15948519039999795, 0.07974259519999898, 0.2930076753860428, 0.250354659348834, 0.9867791959991151, 0.9936739169572352, 0.9975564504287547, 0.9857313251001326, 0.9899427839917992, 0.9961811225841162, 0.9586002121746657, 0.037187077196430995, 0.9800050139339685, 0.9915927708530573, 0.9930115609296941, 0.9991606018856216, 0.39728401306017785, 0.6002758445507796, 0.9906253662213507, 0.4214978128822028, 0.07725829980903486, 0.14278116167239352, 0.19559063242793634, 0.10561894151108563, 0.056721283404101534, 0.9945769305882127, 0.9947701890384024, 0.9992982048642762, 0.5637302244118756, 0.1165464733615563, 0.3192359922512194, 0.9962006615843032, 0.9808589586739331, 0.9937275226247028, 0.1028063819454789, 0.0819299902094238, 0.05553907990158056, 0.19615930348217814, 0.5632686826897887, 0.0003938941836991529, 0.9904462650988471, 0.9780048683961633, 0.9944789728133806, 0.9600046323153918, 0.5153542258593748, 0.4724080403710936, 0.9673437913894537, 0.9997022232881729, 0.9864891190192998, 0.9916247983666221, 0.9842469483288109, 0.9961246132240977, 0.9875336691638991, 0.1768420293339313, 0.503832951498559, 0.26693136503234915, 0.046712988880661103, 0.9896758845127643, 0.9924244795470331, 0.9913445936855422, 0.7626834901833841, 0.23111620914648004, 0.9966140343802002, 0.9912029254879507, 0.15706128505696754, 0.16454039386920408, 0.20941504674262337, 0.4674443007647843, 0.5663265350164914, 0.0012338268736742733, 0.3331332558920538, 0.09993997676761614, 0.9891772816457924, 0.9917132263564574, 0.9984964048293952, 0.9657709004773246, 0.5351897099139007, 0.14474128038568557, 0.25982824966796236, 0.060014677233089134, 0.9874896833887125, 0.99521400061732, 0.23971149361307872, 0.6453770981890581, 0.10448962542108559, 0.9718784904443283, 0.9809182488081559, 0.12025178595451232, 0.8718254481702142, 0.9945914338770836, 0.07785685673452425, 0.7186786775494546, 0.2036256253056788, 0.3866591738918699, 0.37714726309502195, 0.2358953877618296, 0.26058799839707014, 0.7372190382002582, 0.3358817309470959, 0.18753396644546186, 0.40025906271195594, 0.07557338946309657, 0.2523578330593971, 0.6738125814681181, 0.0729605979933631, 0.9892387740025446, 0.993051098611759, 0.012743151668085866, 0.3404241945617224, 0.4666420777503824, 0.06917710905532327, 0.1104406477900775, 0.7628591952391905, 0.23626610246253146, 0.9769582077807262, 0.9896956571105676, 0.7018613703836323, 0.2980421954022694, 0.9952349875913951, 0.9952634667687034, 0.9797855657051927, 0.9876531059164894, 0.22643162629304828, 0.7714945829984698, 0.9831043589196294, 0.8887160542787118, 0.10805058410683427, 0.9919794266364694, 0.9836805741713993, 0.9798143127330764, 0.9888863578459831, 0.9919315489369517, 0.18803261609439165, 0.808977534359592, 0.5117010527413629, 0.25585052637068145, 0.027412556396858724, 0.20407125317661495, 0.5240708987223098, 0.2579411454648869, 0.21699810650220644, 0.23620399674977582, 0.34735881874967034, 0.10420764562490109, 0.02547298004164249, 0.1505221547915238, 0.136627802041537, 0.9871829610335943, 0.9889181964076775, 0.9950409799472072, 0.648912178543465, 0.3508536495729342, 0.11600595803073264, 0.880785977640748, 0.988550106726177, 0.8842784121420593, 0.1118665461143569, 0.9857272196852626, 0.9917275197497898, 0.2558627927482718, 0.0015139810221791229, 0.2240691912825102, 0.21347132412725633, 0.10295070950818036, 0.20135947594982334, 0.9953260260593148, 0.05055628983212765, 0.9479304343523934, 0.9841127593407688, 0.972165737073126, 0.9863809089161455, 0.8573291402800758, 0.02420394303911061, 0.11847193171775193, 0.96803318371502, 0.9954701848512847, 0.979505359926229, 0.9981958821454024, 0.9901371774377371, 0.5759105085811972, 0.416849510973057, 0.8120440220258158, 0.18133021851061906, 0.9952881032581007, 0.9756456388726377, 0.9947248840645613, 0.9666519916705129, 0.9875322652180459, 0.2616999063621981, 0.7327597378141546, 0.007477140181777088, 0.9693525712529262, 0.9855722634235504, 0.9886119697569395, 0.25921739987248693, 0.11317942811333938, 0.5257366983329312, 0.10222658023140331, 0.33528568597288183, 0.6640924214921814, 0.9931747862732166, 0.993522639560436, 0.7664183842250009, 0.2202351678807474, 0.9857066660372159, 0.981856511081154, 0.9882480643523218, 0.5645237879178322, 0.37786672900951673, 0.054631334314628924, 0.9975080250790681, 0.9856962003871113, 0.9910260453859706, 0.3029216390909195, 0.05923132794135101, 0.2304609790205358, 0.40725296292670027, 0.2373441876129881, 0.3850250154610696, 0.3771135425406366, 0.9937333414354669, 0.9931120884054524, 0.26886775713566075, 0.06464579952988564, 0.26886775713566075, 0.2600524208361309, 0.1336992672095362, 0.00293844543317662, 0.3256331813432889, 0.12972378768960288, 0.1456083331209828, 0.3971136357844986, 0.9875426370795402, 0.027957038903760948, 0.3030182281181832, 0.11453367550895614, 0.13978519451880475, 0.198404792220239, 0.15962567374082864, 0.05681591777215935, 0.9908954703583746, 0.9850057753420964, 0.9879357077846121, 0.9754258023606867, 0.9776303089997966, 0.016570005237284687, 0.9727143580329405, 0.9962531144877649, 0.9845033665000483, 0.9955975515785794, 0.4594482971928433, 0.18225796689967758, 0.2863184421579242, 0.048987533674203824, 0.02312455005738814, 0.9787965734670572, 0.02425871275127383, 0.9733808491448623, 0.8189960871490848, 0.05747340962449718, 0.12213099545205651, 0.9987088888548507, 0.9539840095523326, 0.04002730110009787, 0.9934958842343846, 0.3145747484683319, 0.25527791089762397, 0.16884523240472765, 0.031155965503253318, 0.2150766650869745, 0.01507546717899354, 0.995053246358554, 0.9985618831478338, 0.9982813380526272, 0.9886889402388689, 0.16216901546000162, 0.4899574509642602, 0.2507293997892224, 0.03450404584255354, 0.06210728251659636, 0.5189465105660956, 0.4790275482148575, 0.2460056218082845, 0.7511957380217259, 0.9928348833870682, 0.8927230099176314, 0.09810142966127819, 0.26007034647181754, 0.09212130344905345, 0.20680292611011997, 0.13410856420474446, 0.17922920262877065, 0.12721513333440715, 0.9927649577217321, 0.9957857699523605, 0.999539086986383, 0.9718569824437793, 0.9962692547678819, 0.9979384009387015], \"Term\": [\"absolutely\", \"absolutely\", \"account\", \"account\", \"activity\", \"ad\", \"additional\", \"adult\", \"advertise\", \"advertisement\", \"advertising\", \"affordable\", \"age\", \"ago\", \"alexa\", \"alexa\", \"allow\", \"allow\", \"allow\", \"amazon\", \"amazon\", \"amazon\", \"amazon\", \"amazon\", \"amazon\", \"android\", \"annoying\", \"app\", \"app\", \"app\", \"application\", \"appropriate\", \"article\", \"ask\", \"available\", \"away\", \"awesome\", \"awesome\", \"basic\", \"battery\", \"battery\", \"battery\", \"beat\", \"beginner\", \"believe\", \"benefit\", \"birthday\", \"black\", \"bluetooth\", \"book\", \"book\", \"book\", \"boy\", \"brand\", \"break\", \"bring\", \"brother\", \"browse\", \"browser\", \"budget\", \"bulky\", \"bumper\", \"busy\", \"buy\", \"buy\", \"buy\", \"buy\", \"cable\", \"camera\", \"capability\", \"capability\", \"capacity\", \"car\", \"card\", \"carry\", \"case\", \"case\", \"case\", \"case\", \"certain\", \"charge\", \"charge\", \"charge\", \"charger\", \"child\", \"christmas\", \"class\", \"clear\", \"close\", \"college\", \"computer\", \"computer\", \"content\", \"control\", \"cool\", \"cord\", \"cost\", \"customer\", \"dad\", \"daily\", \"daily\", \"damage\", \"daughter\", \"daughter\", \"daughter\", \"daughter\", \"day\", \"day\", \"day\", \"decent\", \"decent\", \"decide\", \"decide\", \"definitely\", \"definitely\", \"device\", \"device\", \"device\", \"die\", \"difference\", \"display\", \"download\", \"download\", \"download\", \"durability\", \"easy\", \"easy\", \"easy\", \"ebook\", \"educational\", \"electronic\", \"electronic\", \"email\", \"enjoy\", \"enjoy\", \"enjoy\", \"enjoy\", \"entertain\", \"exactly\", \"exceed\", \"exchange\", \"excited\", \"expect\", \"expect\", \"expect\", \"experience\", \"experience\", \"facebook\", \"far\", \"far\", \"fast\", \"fast\", \"fast\", \"feature\", \"feature\", \"feature\", \"feature\", \"figure\", \"find\", \"find\", \"find\", \"find\", \"find\", \"fine\", \"fire\", \"fire\", \"fit\", \"fix\", \"free\", \"free\", \"freetime\", \"freeze\", \"friday\", \"friend\", \"friendly\", \"functionality\", \"game\", \"gb\", \"gb\", \"gb\", \"geek\", \"generation\", \"get\", \"get\", \"get\", \"get\", \"get\", \"gift\", \"girl\", \"give\", \"give\", \"give\", \"give\", \"go\", \"go\", \"go\", \"go\", \"go\", \"good\", \"good\", \"good\", \"good\", \"good\", \"good\", \"google\", \"grand\", \"grandchild\", \"granddaughter\", \"grandkid\", \"grandson\", \"grandson\", \"graphic\", \"great\", \"great\", \"great\", \"handy\", \"happy\", \"happy\", \"hd\", \"hdx\", \"help\", \"help\", \"help\", \"helpful\", \"highly\", \"homework\", \"house\", \"huge\", \"huge\", \"hundred\", \"idea\", \"impressed\", \"improvement\", \"inch\", \"inexpensive\", \"instruction\", \"internet\", \"internet\", \"ipad\", \"ipad\", \"ipad\", \"ipad\", \"issue\", \"issue\", \"issue\", \"issue\", \"item\", \"item\", \"key\", \"keyboard\", \"kid\", \"kids\", \"kind\", \"kindle\", \"know\", \"know\", \"know\", \"know\", \"know\", \"lag\", \"last\", \"law\", \"learn\", \"learn\", \"learning\", \"let\", \"level\", \"library\", \"life\", \"life\", \"light\", \"light\", \"lightweight\", \"like\", \"like\", \"like\", \"like\", \"like\", \"like\", \"like\", \"like\", \"limit\", \"listen\", \"little\", \"little\", \"little\", \"live\", \"load\", \"lock\", \"long\", \"long\", \"long\", \"long\", \"lose\", \"lot\", \"lot\", \"lot\", \"lot\", \"lot\", \"love\", \"love\", \"love\", \"love\", \"love\", \"m\", \"m\", \"m\", \"m\", \"m\", \"mainly\", \"member\", \"memory\", \"micro\", \"mini\", \"model\", \"mom\", \"mom\", \"monitor\", \"month\", \"mother\", \"movie\", \"music\", \"music\", \"nd\", \"need\", \"need\", \"need\", \"need\", \"need\", \"need\", \"nephew\", \"netflix\", \"new\", \"nice\", \"nice\", \"nice\", \"niece\", \"night\", \"nook\", \"not\", \"not\", \"not\", \"not\", \"not\", \"not\", \"number\", \"occupy\", \"offer\", \"oh\", \"ok\", \"ok\", \"okay\", \"old\", \"one\", \"operate\", \"operating\", \"original\", \"os\", \"overall\", \"overall\", \"overall\", \"overall\", \"own\", \"page\", \"pair\", \"parent\", \"parent\", \"parental\", \"past\", \"pay\", \"pay\", \"pay\", \"pay\", \"perfect\", \"perfect\", \"perfect\", \"perfect\", \"perform\", \"person\", \"picture\", \"pink\", \"play\", \"play\", \"play\", \"play\", \"playing\", \"pleased\", \"plus\", \"plus\", \"plus\", \"pop\", \"port\", \"powerful\", \"powerful\", \"present\", \"previous\", \"previous\", \"previous\", \"price\", \"price\", \"price\", \"prime\", \"prime\", \"problem\", \"problem\", \"problem\", \"problem\", \"product\", \"product\", \"product\", \"profile\", \"program\", \"purchase\", \"purchase\", \"purchase\", \"purchase\", \"purchase\", \"quality\", \"quality\", \"question\", \"ram\", \"read\", \"read\", \"reader\", \"reading\", \"reasonable\", \"receive\", \"recommend\", \"recommend\", \"reliable\", \"replace\", \"replace\", \"replacement\", \"require\", \"research\", \"respond\", \"responsive\", \"return\", \"return\", \"right\", \"right\", \"right\", \"right\", \"run\", \"run\", \"run\", \"s\", \"s\", \"s\", \"s\", \"s\", \"s\", \"satisfied\", \"savvy\", \"school\", \"screen\", \"screen\", \"sd\", \"sd\", \"search\", \"second\", \"second\", \"selection\", \"sell\", \"set\", \"set\", \"set\", \"set\", \"set\", \"set\", \"setting\", \"shop\", \"shop\", \"shut\", \"silk\", \"sister\", \"size\", \"size\", \"size\", \"slot\", \"slow\", \"smooth\", \"son\", \"soon\", \"sound\", \"sound\", \"space\", \"space\", \"speaker\", \"special\", \"speed\", \"speedy\", \"squad\", \"star\", \"star\", \"star\", \"starter\", \"step\", \"stop\", \"storage\", \"storage\", \"storage\", \"storage\", \"store\", \"store\", \"stream\", \"strong\", \"stuff\", \"stuff\", \"subscription\", \"support\", \"suppose\", \"sure\", \"sure\", \"sure\", \"surf\", \"surprise\", \"table\", \"tablet\", \"tablet\", \"tablet\", \"tablet\", \"take\", \"take\", \"take\", \"tech\", \"thank\", \"thing\", \"thing\", \"thing\", \"thing\", \"thing\", \"thing\", \"think\", \"think\", \"think\", \"think\", \"thrilled\", \"time\", \"time\", \"time\", \"time\", \"time\", \"time\", \"time\", \"toddler\", \"ton\", \"tool\", \"toy\", \"travel\", \"travel\", \"trouble\", \"tv\", \"unlimited\", \"upgrade\", \"use\", \"use\", \"use\", \"use\", \"use\", \"useful\", \"user\", \"user\", \"ve\", \"ve\", \"ve\", \"video\", \"view\", \"view\", \"volume\", \"want\", \"want\", \"want\", \"want\", \"want\", \"want\", \"warranty\", \"watch\", \"web\", \"weight\", \"well\", \"well\", \"well\", \"well\", \"well\", \"wife\", \"wife\", \"wifi\", \"wifi\", \"will\", \"wonderful\", \"wonderful\", \"work\", \"work\", \"work\", \"work\", \"work\", \"work\", \"worry\", \"wrong\", \"year\", \"yearold\", \"young\", \"yr\"]}, \"R\": 30, \"lambda.step\": 0.01, \"plot.opts\": {\"xlab\": \"PC1\", \"ylab\": \"PC2\"}, \"topic.order\": [6, 5, 4, 2, 3, 1, 8, 7]};\n",
              "\n",
              "function LDAvis_load_lib(url, callback){\n",
              "  var s = document.createElement('script');\n",
              "  s.src = url;\n",
              "  s.async = true;\n",
              "  s.onreadystatechange = s.onload = callback;\n",
              "  s.onerror = function(){console.warn(\"failed to load library \" + url);};\n",
              "  document.getElementsByTagName(\"head\")[0].appendChild(s);\n",
              "}\n",
              "\n",
              "if(typeof(LDAvis) !== \"undefined\"){\n",
              "   // already loaded: just create the visualization\n",
              "   !function(LDAvis){\n",
              "       new LDAvis(\"#\" + \"ldavis_el206791382885687119048444218515\", ldavis_el206791382885687119048444218515_data);\n",
              "   }(LDAvis);\n",
              "}else if(typeof define === \"function\" && define.amd){\n",
              "   // require.js is available: use it to load d3/LDAvis\n",
              "   require.config({paths: {d3: \"https://d3js.org/d3.v5\"}});\n",
              "   require([\"d3\"], function(d3){\n",
              "      window.d3 = d3;\n",
              "      LDAvis_load_lib(\"https://cdn.jsdelivr.net/gh/bmabey/pyLDAvis@3.4.0/pyLDAvis/js/ldavis.v3.0.0.js\", function(){\n",
              "        new LDAvis(\"#\" + \"ldavis_el206791382885687119048444218515\", ldavis_el206791382885687119048444218515_data);\n",
              "      });\n",
              "    });\n",
              "}else{\n",
              "    // require.js not available: dynamically load d3 & LDAvis\n",
              "    LDAvis_load_lib(\"https://d3js.org/d3.v5.js\", function(){\n",
              "         LDAvis_load_lib(\"https://cdn.jsdelivr.net/gh/bmabey/pyLDAvis@3.4.0/pyLDAvis/js/ldavis.v3.0.0.js\", function(){\n",
              "                 new LDAvis(\"#\" + \"ldavis_el206791382885687119048444218515\", ldavis_el206791382885687119048444218515_data);\n",
              "            })\n",
              "         });\n",
              "}\n",
              "</script>"
            ]
          },
          "metadata": {},
          "execution_count": 32
        }
      ]
    },
    {
      "cell_type": "markdown",
      "metadata": {
        "id": "9gie-6YrzGeB"
      },
      "source": [
        "## Create a Topic id/name dictionary\n",
        "\n",
        "When populating your topic id/name dictionary, use the index ordering as shown in the viz tool.\n",
        "\n",
        "We'll use a function to map the the viz tool index ordering with the train LDA model ordering."
      ]
    },
    {
      "cell_type": "code",
      "metadata": {
        "deletable": false,
        "nbgrader": {
          "cell_type": "code",
          "checksum": "fc10e9728e5dcf06baf0800c3cdb88ce",
          "grade": false,
          "grade_id": "cell-4905c0c1050f0d03",
          "locked": false,
          "schema_version": 3,
          "solution": true,
          "task": false
        },
        "id": "88vMiVwQzGeC"
      },
      "source": [
        "# create a dictionary\n",
        "# keys - use topic ids from pyLDAvis visualization\n",
        "# values - topic names that you create\n",
        "# save dictionary to `vis_topic_name_dict`\n",
        "\n",
        "# YOUR CODE HERE\n",
        "vis_topic_name_dict = {1:\"Family\",\n",
        "                       2:\"Gifts\",\n",
        "                       3:\"Kitchen\",\n",
        "                       4:\"Online Store\",\n",
        "                       5:\"Library\",\n",
        "                       6:\"Toys\",\n",
        "                       7:\"Garden and Patio\",\n",
        "                       8:\"Books\"}"
      ],
      "execution_count": 33,
      "outputs": []
    },
    {
      "cell_type": "code",
      "metadata": {
        "id": "iWLsK27ZzGeC"
      },
      "source": [
        "def get_topic_id_lookup_dict(vis, vis_topic_name_dict):\n",
        "    \"\"\"\n",
        "    Both the starting index and the ordering of topic ids bewteen the trained LDA model\n",
        "    and the viz tool are different. So we need to create a look up dictionary that maps\n",
        "    the correct association between topic ids from both sources.\n",
        "    \"\"\"\n",
        "    # value is order of topic ids accoridng to pyLDAvis tool\n",
        "    # key is order of topic ids according to lda model\n",
        "    model_vis_tool_topic_id_lookup = vis.topic_coordinates.topics.to_dict()\n",
        "\n",
        "    # invert dictionary so that\n",
        "    # key is order of topic ids accoridng to pyLDAvis tool\n",
        "    # value is order of topic ids according to lda model\n",
        "    topic_id_lookup =  {v:k for k, v in model_vis_tool_topic_id_lookup.items()}\n",
        "\n",
        "    return {v:vis_topic_name_dict[k]  for k, v in topic_id_lookup.items()}"
      ],
      "execution_count": 34,
      "outputs": []
    },
    {
      "cell_type": "markdown",
      "metadata": {
        "id": "tR8xm8IG4M0M"
      },
      "source": [
        "Create a topic id/name look up dict\n",
        "that is aligned with the index ordering of the trained LDA model"
      ]
    },
    {
      "cell_type": "code",
      "metadata": {
        "deletable": false,
        "nbgrader": {
          "cell_type": "code",
          "checksum": "55f23aa9324a225091037f0c5daf2192",
          "grade": false,
          "grade_id": "cell-d38acb7b250b4079",
          "locked": false,
          "schema_version": 3,
          "solution": true,
          "task": false
        },
        "id": "dcsa0f_tzGeC"
      },
      "source": [
        "topic_name_dict = get_topic_id_lookup_dict(vis, vis_topic_name_dict)"
      ],
      "execution_count": 35,
      "outputs": []
    },
    {
      "cell_type": "code",
      "metadata": {
        "id": "tbeEkAlC4WNi",
        "colab": {
          "base_uri": "https://localhost:8080/"
        },
        "outputId": "3a21e6a6-3a90-4dfb-c4f1-97bae68d27cb"
      },
      "source": [
        "topic_name_dict"
      ],
      "execution_count": 36,
      "outputs": [
        {
          "output_type": "execute_result",
          "data": {
            "text/plain": [
              "{5: 'Family',\n",
              " 4: 'Gifts',\n",
              " 3: 'Kitchen',\n",
              " 1: 'Online Store',\n",
              " 2: 'Library',\n",
              " 0: 'Toys',\n",
              " 7: 'Garden and Patio',\n",
              " 6: 'Books'}"
            ]
          },
          "metadata": {},
          "execution_count": 36
        }
      ]
    },
    {
      "cell_type": "markdown",
      "metadata": {
        "id": "t4NLAlB9zGeC"
      },
      "source": [
        "## Use the LDA Model to Assign Each Document a Topic Name\n",
        "\n",
        "Now that we have a topic id/name look up dict that is aligned with the index ordering of the trained LDA model, we can move forward to giving each topic a topic name.\n",
        "\n",
        "The function below has been given to you. However, you highly encouraged to read through it and make sure that you understand what it is doing each step of the way. In fact, a good way to do this is to copy and paste the code inside of the function into a new cell, comment out all the lines of code and line by line, uncomment the code and see the output."
      ]
    },
    {
      "cell_type": "code",
      "metadata": {
        "id": "23No1SMKzGeC"
      },
      "source": [
        "def get_topic_ids_for_docs(lda_model, corpus):\n",
        "\n",
        "    \"\"\"\n",
        "    Passes a Bag-of-Words vector into a trained LDA model in order to get the topic id of that document.\n",
        "\n",
        "    Parameters\n",
        "    ----------\n",
        "    lda_model: Gensim object\n",
        "        Must be a trained model\n",
        "\n",
        "    corpus: nested lists of tuples,\n",
        "        i.e. [[(),(), ..., ()], [(),(), ..., ()], ..., [(),(), ..., ()]]\n",
        "\n",
        "    Returns\n",
        "    -------\n",
        "    topic_id_list: list\n",
        "        Contains topic ids for all document vectors in corpus\n",
        "    \"\"\"\n",
        "\n",
        "    # store topic ids for each document\n",
        "    doc_topic_ids = []\n",
        "\n",
        "    # iterature through the bow vectors for each doc\n",
        "    for doc_bow in corpus:\n",
        "\n",
        "        # store the topic ids for the doc\n",
        "        topic_ids = []\n",
        "        # store the topic probabilities for the doc\n",
        "        topic_probs = []\n",
        "\n",
        "        # list of tuples\n",
        "        # each tuple has a topic id and the prob that the doc belongs to that topic\n",
        "        topic_id_prob_tuples = lda_trained_model.get_document_topics(doc_bow)\n",
        "\n",
        "        # iterate through the topic id/prob pairs\n",
        "        for topic_id_prob in topic_id_prob_tuples:\n",
        "\n",
        "            # index for topic id\n",
        "            topic_id = topic_id_prob[0]\n",
        "            # index for prob that doc belongs that the corresponding topic\n",
        "            topic_prob = topic_id_prob[1]\n",
        "\n",
        "            # store all topic ids for doc\n",
        "            topic_ids.append(topic_id)\n",
        "            # store all topic probs for doc\n",
        "            topic_probs.append(topic_prob)\n",
        "\n",
        "        # get the index for the topic that had the highest probability, for the current document\n",
        "        max_topic_prob_ind = np.argmax(topic_probs)\n",
        "        # get the corresponding topic id\n",
        "        max_prob_topic_id = topic_ids[max_topic_prob_ind]\n",
        "        # store the most probable topic id for the current document\n",
        "        doc_topic_ids.append(max_prob_topic_id)\n",
        "\n",
        "    return doc_topic_ids"
      ],
      "execution_count": 37,
      "outputs": []
    },
    {
      "cell_type": "code",
      "metadata": {
        "deletable": false,
        "nbgrader": {
          "cell_type": "code",
          "checksum": "09f2b8ebaf696dc05187cecce8c9e251",
          "grade": false,
          "grade_id": "cell-e28e8774a79ac647",
          "locked": false,
          "schema_version": 3,
          "solution": true,
          "task": false
        },
        "id": "gI94W2MvzGeD"
      },
      "source": [
        "# use get_topic_ids_for_docs to get the topic id for each doc in the corpus - save result to `doc_topic_ids`\n",
        "doc_topic_ids =\n",
        "\n",
        "# create a new feature in df_electronics called topic_id using `doc_topic_ids`\n",
        "df_electronics['topic_id'] =\n",
        "\n",
        "# iterate through topic_id and use the lookup dict `topic_name_dict` to assign each document a topic name\n",
        "# save results to a new feature in df_electronics called `new_topic_name`\n",
        "df_electronics['new_topic_name'] = df_electronics['topic_id'].apply(?)\n",
        "\n",
        "# YOUR CODE HERE\n",
        "raise NotImplementedError()"
      ],
      "execution_count": null,
      "outputs": []
    },
    {
      "cell_type": "markdown",
      "metadata": {
        "id": "NZa4oKuIzGeD"
      },
      "source": [
        "## Congratulations! You have created new topic names for your documents."
      ]
    },
    {
      "cell_type": "code",
      "metadata": {
        "id": "kDVAZTa23xkF"
      },
      "source": [
        "cols = [\"reviews.text\", \"new_topic_name\", \"topic_id\"]\n",
        "df_electronics[cols].head(15)"
      ],
      "execution_count": null,
      "outputs": []
    },
    {
      "cell_type": "markdown",
      "metadata": {
        "id": "gkYnBihNzGeE"
      },
      "source": [
        "-----\n",
        "# Stretch Goals -- see if you can create a model to classify the reviews into the latent topics you've discovered!\n",
        "\n",
        "\n",
        "- Treat `topic_id` as the `y` (target) vector and train a supervised learning model to predict the topic of each document\n",
        "- Report your results on the Slack channel!"
      ]
    },
    {
      "cell_type": "markdown",
      "metadata": {
        "id": "eqY0KKxKQxbm"
      },
      "source": [
        "## Topic Modeling References\n"
      ]
    },
    {
      "cell_type": "markdown",
      "metadata": {
        "id": "iKhe7u4IXr0y"
      },
      "source": [
        "\n",
        "- [Topic Modeling with Gensim](https://www.tutorialspoint.com/gensim/gensim_topic_modeling.htm) -- Brief Tutorial\n",
        "\n",
        "- [Gensim documentation](https://radimrehurek.com/gensim/index.html) -- look up gensim commands\n",
        "\n",
        "- [`pyLDAvis` documentation](https://pyldavis.readthedocs.io/en/latest/readme.html) -- package for visualizing LDA models\n",
        "\n",
        "- [Visualizing Topic Models](https://speakerdeck.com/bmabey/visualizing-topic-models) -- slides from Ben Mabey\n",
        "\n",
        "- [Exploring the Space of Topic Coherence Measures](https://dl.acm.org/doi/10.1145/2684822.2685324) -- Study of Topic Coherence measures\n",
        "\n",
        "- [Exploring Topic Coherence over many models and many topics](https://www.researchgate.net/publication/232242203_Exploring_Topic_Coherence_over_many_models_and_many_topics) -- Study of automated topic coherence measures"
      ]
    }
  ]
}